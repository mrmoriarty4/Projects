{
 "cells": [
  {
   "cell_type": "code",
   "execution_count": 49,
   "id": "86e6c224",
   "metadata": {},
   "outputs": [],
   "source": [
    "import os, shutil"
   ]
  },
  {
   "cell_type": "code",
   "execution_count": 73,
   "id": "2c2aadfa",
   "metadata": {},
   "outputs": [],
   "source": [
    "path = r\"D:/\""
   ]
  },
  {
   "cell_type": "code",
   "execution_count": 74,
   "id": "f52438db",
   "metadata": {},
   "outputs": [],
   "source": [
    "ten_file = os.listdir(path)"
   ]
  },
  {
   "cell_type": "code",
   "execution_count": 75,
   "id": "e2a50da0",
   "metadata": {},
   "outputs": [
    {
     "data": {
      "text/plain": [
       "['$RECYCLE.BIN',\n",
       " '2s',\n",
       " '2s sv',\n",
       " 'accgenshin.xlsx',\n",
       " 'active microsoft.txt',\n",
       " 'Anaconda',\n",
       " 'axie',\n",
       " 'Bài tập 12.docx',\n",
       " 'Bộ câu hỏi.docx',\n",
       " 'chương 15 cc.pptx',\n",
       " 'Chương 4.docx',\n",
       " 'code R',\n",
       " 'Config.Msi',\n",
       " 'CV',\n",
       " 'dataset',\n",
       " 'deathgamebynam',\n",
       " 'deathgamebynam.rar',\n",
       " 'deathgamebynam.zip',\n",
       " 'Download',\n",
       " 'DumpStack.log.tmp',\n",
       " 'Dữ liệu hoàn chỉnh.docx',\n",
       " 'GI',\n",
       " 'GT cam nhan ve DVDT.sav',\n",
       " 'HK7',\n",
       " 'Jamesdonkey A3R Driver',\n",
       " 'LG',\n",
       " 'LOL',\n",
       " 'Lossless',\n",
       " 'low profile',\n",
       " 'm3u8',\n",
       " 'm3u8.rar',\n",
       " 'MHDDoS-2.4',\n",
       " 'Microsoft.Media.Player.exe.png',\n",
       " 'msdownld.tmp',\n",
       " 'MSI Afterburner',\n",
       " 'NAM',\n",
       " 'namwrite',\n",
       " 'New Folder',\n",
       " 'New folder (2)',\n",
       " 'Notepad++',\n",
       " 'Nến.docx',\n",
       " 'OneDrive',\n",
       " 'OneDrive - st.ueh.edu.vn',\n",
       " 'OneDriveTemp',\n",
       " 'Output5.spv',\n",
       " 'pagefile.sys',\n",
       " 'Phước',\n",
       " 'pinterest',\n",
       " 'PPT - VIE',\n",
       " 'PTDLDB.docx',\n",
       " 'PTDLDB.sav',\n",
       " 'Python',\n",
       " 'pythoncro.txt',\n",
       " 'R-4.1.2',\n",
       " 'R-4.2.3',\n",
       " 'rainmeter',\n",
       " 'Riot Games',\n",
       " 'RivaTuner Statistics Server',\n",
       " 'ROM XIAOMI',\n",
       " 'RSTU',\n",
       " 'RStudio',\n",
       " 'rtr9D88.tmp',\n",
       " 'Sao lưu K30.rar',\n",
       " 'sao lưuu',\n",
       " 'saoluuk30',\n",
       " 'saoluuk30.zip',\n",
       " 'spss',\n",
       " 'SQL project',\n",
       " 'stuhack v0.5.1',\n",
       " 'stuhack.v0.5.1.zip',\n",
       " 'System Volume Information',\n",
       " 'Tableau',\n",
       " 'Telegram Desktop',\n",
       " 'testtt.xml',\n",
       " 'Thuong hieu ngan hang.sav',\n",
       " 'Tiểu luận DTTC.docx',\n",
       " 'Tiểu luận sơ thảo.docx',\n",
       " 'TOEIC 2 ky nang.rar',\n",
       " 'TOIEC',\n",
       " 'Toiec Hacking',\n",
       " 'Ton Duc Thang',\n",
       " 'totnghiep.jpg',\n",
       " 'Toàn.docx',\n",
       " 'Trương Phương Nam.docx',\n",
       " 'Tóm tắt PTDLDB.docx',\n",
       " 'UEH',\n",
       " 'Unikey',\n",
       " 'VBA',\n",
       " 'Visual Studio',\n",
       " 'Visual Studio packages',\n",
       " 'VuaHaiTacOnline',\n",
       " 'VuaHaiTacOnline.zip',\n",
       " 'Winrar',\n",
       " 'Xiaomi',\n",
       " 'ZHBAAL.xlsx',\n",
       " '__MACOSX']"
      ]
     },
     "execution_count": 75,
     "metadata": {},
     "output_type": "execute_result"
    }
   ],
   "source": [
    "os.listdir(path)"
   ]
  },
  {
   "cell_type": "code",
   "execution_count": 76,
   "id": "7d9ad616",
   "metadata": {},
   "outputs": [],
   "source": [
    "ten_folder =['PDF', 'Word', 'Excel', 'Pics', 'Rar', 'Powerpoint']"
   ]
  },
  {
   "cell_type": "code",
   "execution_count": 77,
   "id": "a0efe71e",
   "metadata": {},
   "outputs": [
    {
     "name": "stdout",
     "output_type": "stream",
     "text": [
      "6\n"
     ]
    }
   ],
   "source": [
    "len_folder = len(ten_folder)\n",
    "print(len_folder)"
   ]
  },
  {
   "cell_type": "code",
   "execution_count": 78,
   "id": "e37b21d6",
   "metadata": {},
   "outputs": [],
   "source": [
    "for ten in range (0, len_folder):\n",
    "    if not os.path.exists(path + ten_folder[ten]):\n",
    "        os.makedirs(path + ten_folder[ten])    "
   ]
  },
  {
   "cell_type": "code",
   "execution_count": 79,
   "id": "c08d9283",
   "metadata": {},
   "outputs": [],
   "source": [
    "for file in ten_file:\n",
    "    if \".xlsm\" in file or \".xlsm\" in file or \".csv\" in file or \".xlsx\" in file or \".xls\" in file and not os.path.exists(path + ten_folder[2] + '/' + file):\n",
    "        shutil.move(path + file, path + ten_folder[2] + '/' + file)\n",
    "    elif \".doc\" in file or \".docx\" in file and not os.path.exists(path + ten_folder[1] + '/' + file):\n",
    "        shutil.move(path + file, path + ten_folder[1] + '/' + file)\n",
    "    elif \".pdf\" in file and not os.path.exists(path + ten_folder[0] + '/' + file):\n",
    "        shutil.move(path + file, path + ten_folder[0] + '/' + file)\n",
    "    elif \".png\" in file or \".jpg\" in file and not os.path.exists(path + ten_folder[3] + '/' + file):\n",
    "        shutil.move(path + file, path + ten_folder[3] + '/' + file)\n",
    "    elif \".rar\" in file and not os.path.exists(path + ten_folder[4] + '/' + file):\n",
    "        shutil.move(path + file, path + ten_folder[4] + '/' + file)\n",
    "    elif \".pptx\" in file or \".ppt\" in file and not os.path.exists(path + ten_folder[5] + '/' + file):\n",
    "        shutil.move(path + file, path + ten_folder[5] + '/' + file)"
   ]
  },
  {
   "cell_type": "code",
   "execution_count": 252,
   "id": "c733d3fe",
   "metadata": {},
   "outputs": [],
   "source": [
    "count = 0"
   ]
  },
  {
   "cell_type": "code",
   "execution_count": 240,
   "id": "d28f226d",
   "metadata": {},
   "outputs": [
    {
     "name": "stdout",
     "output_type": "stream",
     "text": [
      "0\n"
     ]
    }
   ],
   "source": []
  },
  {
   "cell_type": "code",
   "execution_count": 143,
   "id": "de3d5039",
   "metadata": {},
   "outputs": [
    {
     "name": "stdout",
     "output_type": "stream",
     "text": [
      "Excel/\n"
     ]
    }
   ],
   "source": [
    "print(str(ten_folder[2] + '/'))"
   ]
  },
  {
   "cell_type": "code",
   "execution_count": 169,
   "id": "04acdf86",
   "metadata": {},
   "outputs": [
    {
     "data": {
      "text/plain": [
       "'Excel/'"
      ]
     },
     "execution_count": 169,
     "metadata": {},
     "output_type": "execute_result"
    }
   ],
   "source": [
    "str(ten_folder[2] + '/') "
   ]
  },
  {
   "cell_type": "code",
   "execution_count": null,
   "id": "03410407",
   "metadata": {},
   "outputs": [],
   "source": []
  }
 ],
 "metadata": {
  "kernelspec": {
   "display_name": "Python 3 (ipykernel)",
   "language": "python",
   "name": "python3"
  },
  "language_info": {
   "codemirror_mode": {
    "name": "ipython",
    "version": 3
   },
   "file_extension": ".py",
   "mimetype": "text/x-python",
   "name": "python",
   "nbconvert_exporter": "python",
   "pygments_lexer": "ipython3",
   "version": "3.9.12"
  }
 },
 "nbformat": 4,
 "nbformat_minor": 5
}
