{
 "cells": [
  {
   "cell_type": "markdown",
   "id": "d5db25e8",
   "metadata": {},
   "source": [
    "# Cơ bản về lập trình Python"
   ]
  },
  {
   "cell_type": "markdown",
   "id": "4253e0bc",
   "metadata": {},
   "source": [
    "## Numpy"
   ]
  },
  {
   "cell_type": "markdown",
   "id": "fd25ebb1",
   "metadata": {},
   "source": [
    "[Numpy](https://numpy.org/) là một gói trọng tâm trong thư viện của Python phục vụ cho việc tính toán. Các đặc điểm chính của Numpy bao gồm:\n",
    "\n",
    "* Đối tượng mảng $N$-chiều: ndarray\n",
    "* Các phép toán và các hàm trên mảng giúp việc tính toán nhanh \n",
    "\n",
    "Để sử dụng numpy, ta nạp numpy theo cú pháp chuẩn sau"
   ]
  },
  {
   "cell_type": "code",
   "execution_count": 2,
   "id": "f4a7a465",
   "metadata": {},
   "outputs": [],
   "source": [
    "import numpy as np"
   ]
  },
  {
   "cell_type": "markdown",
   "id": "97a72656",
   "metadata": {},
   "source": [
    "### Numpy arrays"
   ]
  },
  {
   "cell_type": "markdown",
   "id": "0948494e",
   "metadata": {},
   "source": [
    "Đối tượng cơ bản được cung cấp bởi numpy đó là __ndarray__. Chúng ta có thể hình dung 1D (1-dimensional) ndarray như một danh sách (list), 2D (2-dimensional) ndarray như một ma trận, 3D (3-dimensional) ndarray như một 3-tensor (hoặc a cube of numbers). Có thể xem chi tiết hơn về numpy arrays tại [NumPy tutorial](https://numpy.org/doc/stable/user/quickstart.html)."
   ]
  },
  {
   "cell_type": "markdown",
   "id": "006ef709",
   "metadata": {},
   "source": [
    "#### Tạo arrays\n",
    "\n",
    "Hàm __numpy.array__ tạo một array từ một dãy tương tự như list, tuple. Ví dụ sau đây tạo một 1D-ndarray từ một list "
   ]
  },
  {
   "cell_type": "markdown",
   "id": "03965e00",
   "metadata": {},
   "source": [
    "Lưu ý rằng khi hiển thị 1D-ndarray ta thấy nó tương tư như list, chỉ một điểm khác biệt là không có các dấu phẩy tách giữa hai phần tử."
   ]
  },
  {
   "cell_type": "code",
   "execution_count": 4,
   "id": "496725de",
   "metadata": {},
   "outputs": [
    {
     "name": "stdout",
     "output_type": "stream",
     "text": [
      "[1 2 3 4 5]\n"
     ]
    }
   ],
   "source": [
    "a = np.array([1, 2, 3, 4, 5])\n",
    "print(a)"
   ]
  },
  {
   "cell_type": "code",
   "execution_count": 4,
   "id": "dde109f0",
   "metadata": {},
   "outputs": [
    {
     "data": {
      "text/plain": [
       "numpy.ndarray"
      ]
     },
     "execution_count": 4,
     "metadata": {},
     "output_type": "execute_result"
    }
   ],
   "source": [
    "# Một lần nữa ta có thể sử dụng hàm type để kiểm tra kiểu dữ liệu\n",
    "\n",
    "type(a)"
   ]
  },
  {
   "cell_type": "markdown",
   "id": "95762f53",
   "metadata": {},
   "source": [
    "Tạo một 2D-ndarray từ một list của các list"
   ]
  },
  {
   "cell_type": "code",
   "execution_count": 5,
   "id": "32c2d0bb",
   "metadata": {},
   "outputs": [
    {
     "name": "stdout",
     "output_type": "stream",
     "text": [
      "[[1 2 3]\n",
      " [4 5 6]]\n"
     ]
    }
   ],
   "source": [
    "M = np.array([[1,2,3],[4,5,6]])\n",
    "print(M)"
   ]
  },
  {
   "cell_type": "code",
   "execution_count": 6,
   "id": "80c1a47e",
   "metadata": {},
   "outputs": [
    {
     "data": {
      "text/plain": [
       "numpy.ndarray"
      ]
     },
     "execution_count": 6,
     "metadata": {},
     "output_type": "execute_result"
    }
   ],
   "source": [
    "type(M)"
   ]
  },
  {
   "cell_type": "markdown",
   "id": "8017a6da",
   "metadata": {},
   "source": [
    "Tạo một n-dimensional bằng các list lồng nhau"
   ]
  },
  {
   "cell_type": "code",
   "execution_count": 8,
   "id": "5cf7de78",
   "metadata": {},
   "outputs": [
    {
     "name": "stdout",
     "output_type": "stream",
     "text": [
      "[[[ 1  2]\n",
      "  [ 3  4]]\n",
      "\n",
      " [[ 5  6]\n",
      "  [ 7  8]]\n",
      "\n",
      " [[ 9 10]\n",
      "  [11 12]]]\n"
     ]
    }
   ],
   "source": [
    "# 3D ndarray\n",
    "\n",
    "N = np.array([ [[1,2],[3,4]] , [[5,6],[7,8]] , [[9,10],[11,12]] ])\n",
    "print(N)"
   ]
  },
  {
   "cell_type": "markdown",
   "id": "9ddd4463",
   "metadata": {},
   "source": [
    "Có một số hàm Numpy sử dụng cho việc tạo các array \n",
    "\n",
    "| Function               \t| Description                                                                                                   \t|\n",
    "|------------------------\t|---------------------------------------------------------------------------------------------------------------\t|\n",
    "| np.array(a)         \t| Create n-dimensional NumPy array from sequence a                                                              \t|\n",
    "| np.linspace(a,b,N)  \t| Create 1D NumPy array with N equally spaced values from a to b (inclusively)                                  \t|\n",
    "| np.arange(a,b,step) \t| Create 1D NumPy array with values from a to b (exclusively) incremented by step                               \t|\n",
    "| np.zeros(N)         \t| Create 1D NumPy array of zeros of length N                                                                    \t|\n",
    "| np.zeros((n,m))     \t| Create 2D NumPy array of zeros with n rows and m columns                                                      \t|\n",
    "| np.ones(N)          \t| Create 1D NumPy array of ones of length N                                                                     \t|\n",
    "| np.ones((n,m))      \t| Create 2D NumPy array of ones with n rows and m columns                                                       \t|\n",
    "| np.eye(N)           \t| Create 2D NumPy array with N rows and N columns with ones on the diagonal (ie. the identity matrix of size N) \t|"
   ]
  },
  {
   "cell_type": "code",
   "execution_count": 12,
   "id": "0c6896fa",
   "metadata": {},
   "outputs": [
    {
     "name": "stdout",
     "output_type": "stream",
     "text": [
      "[0.  0.1 0.2 0.3 0.4 0.5 0.6 0.7 0.8 0.9 1. ]\n"
     ]
    }
   ],
   "source": [
    "# Tạo 1D-ndarray nhận giá trị từ 0 đến 1 và gồm 11 khoảng cách đều nhau (có chứa 1)\n",
    "\n",
    "x = np.linspace(0,1,11)\n",
    "print(x)"
   ]
  },
  {
   "cell_type": "code",
   "execution_count": 15,
   "id": "403b7388",
   "metadata": {},
   "outputs": [
    {
     "name": "stdout",
     "output_type": "stream",
     "text": [
      "[ 0.   2.5  5.   7.5 10.  12.5 15.  17.5]\n"
     ]
    }
   ],
   "source": [
    "# Tạo 1D-ndarray nhận giá trị từ 0 đến 20 (không bao gồm 20) và cách nhau 2.5\n",
    "\n",
    "y = np.arange(0,20,2.5)\n",
    "print(y)"
   ]
  },
  {
   "cell_type": "markdown",
   "id": "0c3398d1",
   "metadata": {},
   "source": [
    "Hai hàm trên thường được sử dụng nhiều nhất để tạo các array. Hàm np.linspace() hiệu quả khi ta biết trước số giá trị mà ta muốn có trong array. Trong khi đó hàm np.arange() sẽ hữu ích khi ta biết khoảng cách giữa hai giá trị trong array."
   ]
  },
  {
   "cell_type": "code",
   "execution_count": 16,
   "id": "b9d6c0a7",
   "metadata": {},
   "outputs": [
    {
     "name": "stdout",
     "output_type": "stream",
     "text": [
      "[0. 0. 0. 0. 0.]\n"
     ]
    }
   ],
   "source": [
    "# Tạo 1D-ndarray có độ dài là 5 với tất cả các phần tử đều là 0\n",
    "\n",
    "z = np.zeros(5)\n",
    "print(z)"
   ]
  },
  {
   "cell_type": "code",
   "execution_count": 18,
   "id": "03e62190",
   "metadata": {},
   "outputs": [
    {
     "name": "stdout",
     "output_type": "stream",
     "text": [
      "[[0. 0. 0. 0. 0.]\n",
      " [0. 0. 0. 0. 0.]]\n"
     ]
    }
   ],
   "source": [
    "# Tạo 2D-ndarray với 2 dòng và 5 cột gồm các phần tử 0\n",
    "\n",
    "P = np.zeros((2,5))\n",
    "print(P)"
   ]
  },
  {
   "cell_type": "code",
   "execution_count": 19,
   "id": "8266f16f",
   "metadata": {},
   "outputs": [
    {
     "name": "stdout",
     "output_type": "stream",
     "text": [
      "[1. 1. 1. 1. 1. 1. 1.]\n"
     ]
    }
   ],
   "source": [
    "# Tạo 1D-ndarray với độ dài 7, các phần tử đều là 1\n",
    "\n",
    "w = np.ones(7)\n",
    "print(w)"
   ]
  },
  {
   "cell_type": "code",
   "execution_count": 21,
   "id": "2d570245",
   "metadata": {},
   "outputs": [
    {
     "name": "stdout",
     "output_type": "stream",
     "text": [
      "[[1. 1. 1.]\n",
      " [1. 1. 1.]\n",
      " [1. 1. 1.]\n",
      " [1. 1. 1.]]\n"
     ]
    }
   ],
   "source": [
    "# Tạo 2D-ndarray với 4 dòng và 3 cột, các phần tử đều là 1\n",
    "\n",
    "v = np.ones((4,3))\n",
    "print(v)"
   ]
  },
  {
   "cell_type": "raw",
   "id": "4dc5f487",
   "metadata": {},
   "source": [
    "# Tạo ma trận đơn vị cấp 10\n",
    "\n",
    "print(np.eye(10))"
   ]
  },
  {
   "cell_type": "markdown",
   "id": "92160a80",
   "metadata": {},
   "source": [
    "#### Dữ liệu array"
   ]
  },
  {
   "cell_type": "markdown",
   "id": "d1f7fc48",
   "metadata": {},
   "source": [
    "Các array trong Numpy là thuần nhất theo nghĩa tất cả các phần tử trong array có cùng kiểu dữ liệu. Trong môn học này, chúng ta chủ yếu làm việc với các numeric arrays mà các phần tử có thể có kiểu số nguyên, số thực và số phức. Cũng có các kiểu dữ liệu loại khác được cung cấp bởi Numpy cho những áp dụng khác nhưng chúng ta sẽ làm việc nhiều nhất với _numpy.int64_ và _numpy.float64_. Các kiểu dữ liệu này rất tương tự với các kiểu _int_ và _float_ trong Python, nhưng với một số khác biệt mà chúng ta không nêu ra ở đây (có thể xem chi tiết hơn tại [numeric datatype](https://numpy.org/doc/stable/user/basics.types.html)."
   ]
  },
  {
   "cell_type": "markdown",
   "id": "6bcac288",
   "metadata": {},
   "source": [
    "Hiện tại thì vấn đề quan trọng là làm thế nào để xác định rằng các phần tử của một ndarray có kiểu dữ liệu int64 hay float64. Điều này có thể được giải quyết bằng cách sử dụng thuộc tính dtype của một ndarray."
   ]
  },
  {
   "cell_type": "code",
   "execution_count": 23,
   "id": "c8f1d84f",
   "metadata": {},
   "outputs": [
    {
     "name": "stdout",
     "output_type": "stream",
     "text": [
      "[[1 2 3]\n",
      " [4 5 6]]\n"
     ]
    }
   ],
   "source": [
    "A = np.array([[1,2,3],[4,5,6]])\n",
    "print(A)"
   ]
  },
  {
   "cell_type": "code",
   "execution_count": 26,
   "id": "3f6919e0",
   "metadata": {},
   "outputs": [
    {
     "data": {
      "text/plain": [
       "dtype('int64')"
      ]
     },
     "execution_count": 26,
     "metadata": {},
     "output_type": "execute_result"
    }
   ],
   "source": [
    "A.dtype"
   ]
  },
  {
   "cell_type": "markdown",
   "id": "8ece80f7",
   "metadata": {},
   "source": [
    "Hầu hết các hàm sử dụng để tạo arrays ở trên sử dụng kiểu dữ liệu numpy.float64 làm mặc định. "
   ]
  },
  {
   "cell_type": "code",
   "execution_count": 29,
   "id": "51ab527d",
   "metadata": {},
   "outputs": [
    {
     "name": "stdout",
     "output_type": "stream",
     "text": [
      "[1.  1.1 1.2 1.3 1.4 1.5 1.6 1.7 1.8 1.9 2. ]\n"
     ]
    }
   ],
   "source": [
    "u = np.linspace(1, 2, 11)\n",
    "print(u)"
   ]
  },
  {
   "cell_type": "code",
   "execution_count": 30,
   "id": "0d13f033",
   "metadata": {},
   "outputs": [
    {
     "data": {
      "text/plain": [
       "dtype('float64')"
      ]
     },
     "execution_count": 30,
     "metadata": {},
     "output_type": "execute_result"
    }
   ],
   "source": [
    "u.dtype"
   ]
  },
  {
   "cell_type": "markdown",
   "id": "8e19ea0e",
   "metadata": {},
   "source": [
    "#### Dimension, Shape and Size"
   ]
  },
  {
   "cell_type": "code",
   "execution_count": 36,
   "id": "2716f9e7",
   "metadata": {},
   "outputs": [
    {
     "name": "stdout",
     "output_type": "stream",
     "text": [
      "[[1 2]\n",
      " [3 4]\n",
      " [5 6]]\n"
     ]
    }
   ],
   "source": [
    "# Dimensinal of an array\n",
    "\n",
    "A = np.array([[1,2],[3,4],[5,6]])\n",
    "print(A)"
   ]
  },
  {
   "cell_type": "code",
   "execution_count": 37,
   "id": "4d682a4a",
   "metadata": {},
   "outputs": [
    {
     "data": {
      "text/plain": [
       "2"
      ]
     },
     "execution_count": 37,
     "metadata": {},
     "output_type": "execute_result"
    }
   ],
   "source": [
    "A.ndim"
   ]
  },
  {
   "cell_type": "code",
   "execution_count": 39,
   "id": "be0b2346",
   "metadata": {},
   "outputs": [
    {
     "data": {
      "text/plain": [
       "(3, 2)"
      ]
     },
     "execution_count": 39,
     "metadata": {},
     "output_type": "execute_result"
    }
   ],
   "source": [
    "# Shape of an array (kích thước của các chiều trong array)\n",
    "\n",
    "A.shape "
   ]
  },
  {
   "cell_type": "code",
   "execution_count": 40,
   "id": "134b43f0",
   "metadata": {},
   "outputs": [
    {
     "data": {
      "text/plain": [
       "6"
      ]
     },
     "execution_count": 40,
     "metadata": {},
     "output_type": "execute_result"
    }
   ],
   "source": [
    "# Size of an array (Số phần tử trong array)\n",
    "\n",
    "A.size "
   ]
  },
  {
   "cell_type": "markdown",
   "id": "6fa2bf39",
   "metadata": {},
   "source": [
    "Tạo một 1D-ndarray và quan sát shape và size của nó"
   ]
  },
  {
   "cell_type": "code",
   "execution_count": 41,
   "id": "dea8eaf9",
   "metadata": {},
   "outputs": [
    {
     "name": "stdout",
     "output_type": "stream",
     "text": [
      "[ 1  4  6 -8]\n"
     ]
    }
   ],
   "source": [
    "B = np.array([1, 4, 6, -8])\n",
    "print(B)"
   ]
  },
  {
   "cell_type": "code",
   "execution_count": 43,
   "id": "0c4b3930",
   "metadata": {},
   "outputs": [
    {
     "data": {
      "text/plain": [
       "1"
      ]
     },
     "execution_count": 43,
     "metadata": {},
     "output_type": "execute_result"
    }
   ],
   "source": [
    "B.ndim"
   ]
  },
  {
   "cell_type": "code",
   "execution_count": 44,
   "id": "f7cc730e",
   "metadata": {},
   "outputs": [
    {
     "data": {
      "text/plain": [
       "(4,)"
      ]
     },
     "execution_count": 44,
     "metadata": {},
     "output_type": "execute_result"
    }
   ],
   "source": [
    "B.shape"
   ]
  },
  {
   "cell_type": "code",
   "execution_count": 45,
   "id": "966027a8",
   "metadata": {},
   "outputs": [
    {
     "data": {
      "text/plain": [
       "4"
      ]
     },
     "execution_count": 45,
     "metadata": {},
     "output_type": "execute_result"
    }
   ],
   "source": [
    "B.size"
   ]
  },
  {
   "cell_type": "markdown",
   "id": "eed81bc0",
   "metadata": {},
   "source": [
    "#### Slicing and Indexing"
   ]
  },
  {
   "cell_type": "markdown",
   "id": "57227a97",
   "metadata": {},
   "source": [
    "1. Truy xuất đến phần tử thứ $i$ của array bởi __array_name$[i]$__ (chỉ số của array được bắt đầu bởi 0 tương tự như list)"
   ]
  },
  {
   "cell_type": "markdown",
   "id": "3f9adc7c",
   "metadata": {},
   "source": [
    "Tạo một 1D-ndarray "
   ]
  },
  {
   "cell_type": "code",
   "execution_count": 46,
   "id": "582af80e",
   "metadata": {},
   "outputs": [
    {
     "name": "stdout",
     "output_type": "stream",
     "text": [
      "[ 3 -2  4  7  8]\n"
     ]
    }
   ],
   "source": [
    "v = np.array([3, -2, 4, 7, 8])\n",
    "print(v)"
   ]
  },
  {
   "cell_type": "code",
   "execution_count": 47,
   "id": "9f21306a",
   "metadata": {},
   "outputs": [
    {
     "data": {
      "text/plain": [
       "3"
      ]
     },
     "execution_count": 47,
     "metadata": {},
     "output_type": "execute_result"
    }
   ],
   "source": [
    "v[0]"
   ]
  },
  {
   "cell_type": "code",
   "execution_count": 48,
   "id": "e56f58d4",
   "metadata": {},
   "outputs": [
    {
     "data": {
      "text/plain": [
       "(8, 7)"
      ]
     },
     "execution_count": 48,
     "metadata": {},
     "output_type": "execute_result"
    }
   ],
   "source": [
    "v[4], v[-2]"
   ]
  },
  {
   "cell_type": "code",
   "execution_count": 49,
   "id": "b1023aa7",
   "metadata": {},
   "outputs": [
    {
     "name": "stdout",
     "output_type": "stream",
     "text": [
      "[[6 5 3 1 1]\n",
      " [1 0 4 0 1]\n",
      " [5 9 2 2 9]]\n"
     ]
    }
   ],
   "source": [
    "# Mảng hai chiều\n",
    "\n",
    "B = np.array([[6, 5, 3, 1, 1],[1, 0, 4, 0, 1],[5, 9, 2, 2, 9]])\n",
    "print(B)"
   ]
  },
  {
   "cell_type": "code",
   "execution_count": 53,
   "id": "5cf3b08a",
   "metadata": {},
   "outputs": [
    {
     "data": {
      "text/plain": [
       "(3, 9)"
      ]
     },
     "execution_count": 53,
     "metadata": {},
     "output_type": "execute_result"
    }
   ],
   "source": [
    "B[0,2], B[2,4]"
   ]
  },
  {
   "cell_type": "code",
   "execution_count": 55,
   "id": "9a8a92aa",
   "metadata": {},
   "outputs": [
    {
     "data": {
      "text/plain": [
       "9"
      ]
     },
     "execution_count": 55,
     "metadata": {},
     "output_type": "execute_result"
    }
   ],
   "source": [
    "B[-1, 1]"
   ]
  },
  {
   "cell_type": "markdown",
   "id": "9a5a8b14",
   "metadata": {},
   "source": [
    "2. Truy xuất đến một chiều nào đó của array "
   ]
  },
  {
   "cell_type": "code",
   "execution_count": 58,
   "id": "2a31505f",
   "metadata": {},
   "outputs": [
    {
     "data": {
      "text/plain": [
       "array([1, 0, 4, 0, 1])"
      ]
     },
     "execution_count": 58,
     "metadata": {},
     "output_type": "execute_result"
    }
   ],
   "source": [
    "# Truy xuất đến dòng thứ hai (được đánh chỉ số 1) của B\n",
    "\n",
    "B[1,:]"
   ]
  },
  {
   "cell_type": "code",
   "execution_count": 60,
   "id": "65b8b6b3",
   "metadata": {},
   "outputs": [
    {
     "data": {
      "text/plain": [
       "(array([3, 4, 2]), array([3, 4, 2]))"
      ]
     },
     "execution_count": 60,
     "metadata": {},
     "output_type": "execute_result"
    }
   ],
   "source": [
    "# Truy xuất đến cột thứ 3 (được đánh chỉ số 2 hoặc -3)\n",
    "\n",
    "B[:,2], B[:,-3]"
   ]
  },
  {
   "cell_type": "code",
   "execution_count": 62,
   "id": "ade809bd",
   "metadata": {},
   "outputs": [
    {
     "name": "stdout",
     "output_type": "stream",
     "text": [
      "[[4 0 1]\n",
      " [2 2 9]]\n"
     ]
    }
   ],
   "source": [
    "# Trích ra một mảng con của B từ dòng có chỉ số 1, 2 và cột có chỉ số 2, 3, 4\n",
    "\n",
    "subB = B[1:3,2:5]\n",
    "print(subB)"
   ]
  },
  {
   "cell_type": "code",
   "execution_count": 63,
   "id": "6dd299bc",
   "metadata": {},
   "outputs": [
    {
     "data": {
      "text/plain": [
       "2"
      ]
     },
     "execution_count": 63,
     "metadata": {},
     "output_type": "execute_result"
    }
   ],
   "source": [
    "subB.ndim"
   ]
  },
  {
   "cell_type": "code",
   "execution_count": 64,
   "id": "adb9d443",
   "metadata": {},
   "outputs": [
    {
     "data": {
      "text/plain": [
       "(2, 3)"
      ]
     },
     "execution_count": 64,
     "metadata": {},
     "output_type": "execute_result"
    }
   ],
   "source": [
    "subB.shape"
   ]
  },
  {
   "cell_type": "code",
   "execution_count": 65,
   "id": "46d34518",
   "metadata": {},
   "outputs": [
    {
     "data": {
      "text/plain": [
       "6"
      ]
     },
     "execution_count": 65,
     "metadata": {},
     "output_type": "execute_result"
    }
   ],
   "source": [
    "subB.size"
   ]
  },
  {
   "cell_type": "markdown",
   "id": "c0f1ada4",
   "metadata": {},
   "source": [
    "#### Stacking"
   ]
  },
  {
   "cell_type": "markdown",
   "id": "46105a91",
   "metadata": {},
   "source": [
    "Ta có thể tạo ra các mảng lớn từ một mảng cho trước bằng cách xếp chồng lên dọc theo các chiều của mảng bằng các hàm __numpy.hstack__ và __numpy.vstack__. "
   ]
  },
  {
   "cell_type": "code",
   "execution_count": 66,
   "id": "532f1adb",
   "metadata": {},
   "outputs": [
    {
     "name": "stdout",
     "output_type": "stream",
     "text": [
      "[[1 1 1]\n",
      " [2 2 2]\n",
      " [3 3 3]]\n"
     ]
    }
   ],
   "source": [
    "# Tạo một ma trận 3 x 3 từ 3 1D-ndarray theo chiều dọc\n",
    "\n",
    "x = np.array([1,1,1])\n",
    "y = np.array([2,2,2])\n",
    "z = np.array([3,3,3])\n",
    "vstacked = np.vstack((x,y,z))\n",
    "print(vstacked)"
   ]
  },
  {
   "cell_type": "code",
   "execution_count": 67,
   "id": "e22c5a77",
   "metadata": {},
   "outputs": [
    {
     "name": "stdout",
     "output_type": "stream",
     "text": [
      "[1 1 1 2 2 2 3 3 3]\n"
     ]
    }
   ],
   "source": [
    "# Tạo một ma trận 3 x 3 từ 3 1D-ndarray theo chiều \n",
    "\n",
    "hstacked = np.hstack((x,y,z))\n",
    "print(hstacked)"
   ]
  },
  {
   "cell_type": "markdown",
   "id": "c852b761",
   "metadata": {},
   "source": [
    "Sử dụng các hàm numpy.hstack và numpy.vstack để tạo ma trận sau\n",
    "\n",
    "$$\n",
    "    T = \\left[\\begin{array}{cccc} 1 & 1 & 2 & 2 \\\\ 1 & 1 & 2 & 2 \\\\ 3 & 3 & 4 & 4 \\\\ 3 & 3 & 4 & 4\\end{array}\\right]\n",
    "$$"
   ]
  },
  {
   "cell_type": "code",
   "execution_count": 68,
   "id": "26b1ed70",
   "metadata": {},
   "outputs": [
    {
     "name": "stdout",
     "output_type": "stream",
     "text": [
      "[[1. 1. 2. 2.]\n",
      " [1. 1. 2. 2.]]\n"
     ]
    }
   ],
   "source": [
    "A = np.ones((2,2))\n",
    "B = 2*np.ones((2,2))\n",
    "C = 3*np.ones((2,2))\n",
    "D = 4*np.ones((2,2))\n",
    "A_B = np.hstack((A,B))\n",
    "print(A_B)"
   ]
  },
  {
   "cell_type": "code",
   "execution_count": 69,
   "id": "67606d9c",
   "metadata": {},
   "outputs": [
    {
     "name": "stdout",
     "output_type": "stream",
     "text": [
      "[[3. 3. 4. 4.]\n",
      " [3. 3. 4. 4.]]\n"
     ]
    }
   ],
   "source": [
    "C_D = np.hstack((C,D))\n",
    "print(C_D)"
   ]
  },
  {
   "cell_type": "code",
   "execution_count": 70,
   "id": "99865396",
   "metadata": {},
   "outputs": [
    {
     "name": "stdout",
     "output_type": "stream",
     "text": [
      "[[1. 1. 2. 2.]\n",
      " [1. 1. 2. 2.]\n",
      " [3. 3. 4. 4.]\n",
      " [3. 3. 4. 4.]]\n"
     ]
    }
   ],
   "source": [
    "T = np.vstack((A_B,C_D))\n",
    "print(T)"
   ]
  },
  {
   "cell_type": "markdown",
   "id": "8c7aafbb",
   "metadata": {},
   "source": [
    "### Phép toán trên arrays"
   ]
  },
  {
   "cell_type": "markdown",
   "id": "07dab273",
   "metadata": {},
   "source": [
    "Các phép toán số học cộng +, trừ -, nhân *, chia / và luỹ thừa ** tác động trực tiếp trên các phần tử của array "
   ]
  },
  {
   "cell_type": "code",
   "execution_count": 71,
   "id": "596e8a7c",
   "metadata": {},
   "outputs": [],
   "source": [
    "v = np.array([1,2,3])\n",
    "w = np.array([1,0,-1])"
   ]
  },
  {
   "cell_type": "code",
   "execution_count": 73,
   "id": "053ca8dd",
   "metadata": {},
   "outputs": [
    {
     "data": {
      "text/plain": [
       "array([2, 2, 2])"
      ]
     },
     "execution_count": 73,
     "metadata": {},
     "output_type": "execute_result"
    }
   ],
   "source": [
    "v + w"
   ]
  },
  {
   "cell_type": "code",
   "execution_count": 74,
   "id": "bab1c75d",
   "metadata": {},
   "outputs": [
    {
     "data": {
      "text/plain": [
       "array([0, 2, 4])"
      ]
     },
     "execution_count": 74,
     "metadata": {},
     "output_type": "execute_result"
    }
   ],
   "source": [
    "v - w"
   ]
  },
  {
   "cell_type": "code",
   "execution_count": 75,
   "id": "1b586a7b",
   "metadata": {},
   "outputs": [
    {
     "data": {
      "text/plain": [
       "array([ 1,  0, -3])"
      ]
     },
     "execution_count": 75,
     "metadata": {},
     "output_type": "execute_result"
    }
   ],
   "source": [
    "v*w"
   ]
  },
  {
   "cell_type": "code",
   "execution_count": 82,
   "id": "aa50c76b",
   "metadata": {},
   "outputs": [
    {
     "data": {
      "text/plain": [
       "array([ 1.        ,  0.        , -0.33333333])"
      ]
     },
     "execution_count": 82,
     "metadata": {},
     "output_type": "execute_result"
    }
   ],
   "source": [
    "t = w/v\n",
    "t"
   ]
  },
  {
   "cell_type": "code",
   "execution_count": 83,
   "id": "26309346",
   "metadata": {},
   "outputs": [
    {
     "name": "stdout",
     "output_type": "stream",
     "text": [
      "int64\n",
      "int64\n",
      "float64\n"
     ]
    }
   ],
   "source": [
    "# Kiểu dữ liệu của v và w đều là int64. Tuy nhiên w/v có kiểu float64\n",
    "\n",
    "print(v.dtype)\n",
    "print(w.dtype)\n",
    "print(t.dtype)"
   ]
  },
  {
   "cell_type": "code",
   "execution_count": 84,
   "id": "f4051048",
   "metadata": {},
   "outputs": [
    {
     "data": {
      "text/plain": [
       "array([1, 4, 9])"
      ]
     },
     "execution_count": 84,
     "metadata": {},
     "output_type": "execute_result"
    }
   ],
   "source": [
    "v**2"
   ]
  },
  {
   "cell_type": "markdown",
   "id": "7789188f",
   "metadata": {},
   "source": [
    "Ta quan sát đối với các 2D-ndarrays"
   ]
  },
  {
   "cell_type": "code",
   "execution_count": 87,
   "id": "c3eb8fca",
   "metadata": {},
   "outputs": [
    {
     "name": "stdout",
     "output_type": "stream",
     "text": [
      "[[ 3  1]\n",
      " [ 2 -1]]\n",
      "[[ 2 -2]\n",
      " [ 5  1]]\n"
     ]
    }
   ],
   "source": [
    "A = np.array([[3,1],[2,-1]])\n",
    "B = np.array([[2,-2],[5,1]])\n",
    "print(A)\n",
    "print(B)"
   ]
  },
  {
   "cell_type": "code",
   "execution_count": 86,
   "id": "543da2b7",
   "metadata": {},
   "outputs": [
    {
     "data": {
      "text/plain": [
       "array([[ 5, -1],\n",
       "       [ 7,  0]])"
      ]
     },
     "execution_count": 86,
     "metadata": {},
     "output_type": "execute_result"
    }
   ],
   "source": [
    "A + B"
   ]
  },
  {
   "cell_type": "code",
   "execution_count": 88,
   "id": "fea6900a",
   "metadata": {},
   "outputs": [
    {
     "data": {
      "text/plain": [
       "array([[ 1,  3],\n",
       "       [-3, -2]])"
      ]
     },
     "execution_count": 88,
     "metadata": {},
     "output_type": "execute_result"
    }
   ],
   "source": [
    "A - B"
   ]
  },
  {
   "cell_type": "code",
   "execution_count": 89,
   "id": "111561a1",
   "metadata": {},
   "outputs": [
    {
     "data": {
      "text/plain": [
       "array([[ 6, -2],\n",
       "       [10, -1]])"
      ]
     },
     "execution_count": 89,
     "metadata": {},
     "output_type": "execute_result"
    }
   ],
   "source": [
    "A*B"
   ]
  },
  {
   "cell_type": "code",
   "execution_count": 90,
   "id": "a2510a08",
   "metadata": {},
   "outputs": [
    {
     "data": {
      "text/plain": [
       "array([[ 1.5, -0.5],\n",
       "       [ 0.4, -1. ]])"
      ]
     },
     "execution_count": 90,
     "metadata": {},
     "output_type": "execute_result"
    }
   ],
   "source": [
    "A/B"
   ]
  },
  {
   "cell_type": "code",
   "execution_count": 91,
   "id": "6bf14000",
   "metadata": {},
   "outputs": [
    {
     "data": {
      "text/plain": [
       "array([[9, 1],\n",
       "       [4, 1]])"
      ]
     },
     "execution_count": 91,
     "metadata": {},
     "output_type": "execute_result"
    }
   ],
   "source": [
    "A**2"
   ]
  },
  {
   "cell_type": "markdown",
   "id": "7fa83aef",
   "metadata": {},
   "source": [
    "Với phép nhân hai ma trận thì sao?"
   ]
  },
  {
   "cell_type": "code",
   "execution_count": 92,
   "id": "34a64040",
   "metadata": {},
   "outputs": [
    {
     "data": {
      "text/plain": [
       "array([[11, -5],\n",
       "       [-1, -5]])"
      ]
     },
     "execution_count": 92,
     "metadata": {},
     "output_type": "execute_result"
    }
   ],
   "source": [
    "A@B"
   ]
  },
  {
   "cell_type": "markdown",
   "id": "d0e1941e",
   "metadata": {},
   "source": [
    "Luỹ thừa của ma trận được thực hiện bằng hàm __numpy.linalg.matrix_power__. Tên hàm khá dài, do đó để thuận tiện ta import nó với nên ngắn hơn"
   ]
  },
  {
   "cell_type": "code",
   "execution_count": 93,
   "id": "05b5077d",
   "metadata": {},
   "outputs": [],
   "source": [
    "from numpy.linalg import matrix_power as mpow"
   ]
  },
  {
   "cell_type": "code",
   "execution_count": 96,
   "id": "2acf19cf",
   "metadata": {},
   "outputs": [
    {
     "data": {
      "text/plain": [
       "array([[37,  9],\n",
       "       [18,  1]])"
      ]
     },
     "execution_count": 96,
     "metadata": {},
     "output_type": "execute_result"
    }
   ],
   "source": [
    "# Tính A luỹ thừa 3 (nhân ma trận)\n",
    "\n",
    "mpow(A,3)"
   ]
  },
  {
   "cell_type": "markdown",
   "id": "00323882",
   "metadata": {},
   "source": [
    "Lệnh này cũng tương đương với lệnh sau"
   ]
  },
  {
   "cell_type": "code",
   "execution_count": 97,
   "id": "9e2fcab8",
   "metadata": {},
   "outputs": [
    {
     "data": {
      "text/plain": [
       "array([[37,  9],\n",
       "       [18,  1]])"
      ]
     },
     "execution_count": 97,
     "metadata": {},
     "output_type": "execute_result"
    }
   ],
   "source": [
    "A@A@A"
   ]
  },
  {
   "cell_type": "markdown",
   "id": "36557040",
   "metadata": {},
   "source": [
    "#### Broadcasting"
   ]
  },
  {
   "cell_type": "markdown",
   "id": "009c216a",
   "metadata": {},
   "source": [
    "Ta biết rằng phép cộng hai ma trận chỉ có thể thực hiện nếu hai ma trận cũng cấp. [Broadcasting](https://numpy.org/doc/stable/user/basics.broadcasting.html) là tập hợp các quy tắc nới lỏng ràng buộc này và cho phép chúng ta kết hợp các mảng lớn với các mảng nhỏ hơn khi việc kết hợp đó có nghĩa.  "
   ]
  },
  {
   "cell_type": "markdown",
   "id": "05eb4f27",
   "metadata": {},
   "source": [
    "__Ví dụ:__ Ta muốn tạo một 1D-ndarray gồm các giá trị của hàm $y = x^2 + 1$ với $x \\in \\{0, 0.25, 0.5, 0.75, 1\\}$."
   ]
  },
  {
   "cell_type": "code",
   "execution_count": 103,
   "id": "f4b78f6b",
   "metadata": {},
   "outputs": [
    {
     "name": "stdout",
     "output_type": "stream",
     "text": [
      "[0.   0.25 0.5  0.75 1.  ]\n"
     ]
    }
   ],
   "source": [
    "x = np.linspace(0,1,5)\n",
    "print(x)"
   ]
  },
  {
   "cell_type": "code",
   "execution_count": 110,
   "id": "bccb5ee6",
   "metadata": {},
   "outputs": [
    {
     "name": "stdout",
     "output_type": "stream",
     "text": [
      "[1.     1.0625 1.25   1.5625 2.    ]\n"
     ]
    }
   ],
   "source": [
    "y = x**2 + np.ones(5)\n",
    "print(y)"
   ]
  },
  {
   "cell_type": "markdown",
   "id": "5c10e100",
   "metadata": {},
   "source": [
    "Một ví dụ về __broadcasting__ trong Numpy là phép toán tương đương sau"
   ]
  },
  {
   "cell_type": "code",
   "execution_count": 112,
   "id": "259ef369",
   "metadata": {},
   "outputs": [
    {
     "name": "stdout",
     "output_type": "stream",
     "text": [
      "[1.     1.0625 1.25   1.5625 2.    ]\n"
     ]
    }
   ],
   "source": [
    "z = x**2 + 1\n",
    "print(z)"
   ]
  },
  {
   "cell_type": "markdown",
   "id": "fbfd1725",
   "metadata": {},
   "source": [
    "Trong trường hợp này ta cộng một 1D-ndarray với một số. Quy tắc broadcasting ở đây là lan truyền một vô hướng (số 1) đến một array lớn hơn. Điều này là cho việc thực hiện một nhiệm vụ phổ biến được đơn giản hơn."
   ]
  },
  {
   "cell_type": "markdown",
   "id": "243ee9f4",
   "metadata": {},
   "source": [
    "__Một ví dụ khác:__ Cộng một 1D-ndarray có độ dài 4 và một 2D-ndarray có shape là $(3, 4)$"
   ]
  },
  {
   "cell_type": "code",
   "execution_count": 113,
   "id": "d0b7f30f",
   "metadata": {},
   "outputs": [
    {
     "name": "stdout",
     "output_type": "stream",
     "text": [
      "[1 2 3 4]\n"
     ]
    }
   ],
   "source": [
    "u = np.array([1,2,3,4])\n",
    "print(u)"
   ]
  },
  {
   "cell_type": "code",
   "execution_count": 114,
   "id": "81944197",
   "metadata": {},
   "outputs": [
    {
     "name": "stdout",
     "output_type": "stream",
     "text": [
      "[[1 1 1 1]\n",
      " [2 2 2 2]\n",
      " [3 3 3 3]]\n"
     ]
    }
   ],
   "source": [
    "A = np.array([[1,1,1,1],[2,2,2,2],[3,3,3,3]])\n",
    "print(A)"
   ]
  },
  {
   "cell_type": "code",
   "execution_count": 115,
   "id": "53173ceb",
   "metadata": {},
   "outputs": [
    {
     "name": "stdout",
     "output_type": "stream",
     "text": [
      "[[2 3 4 5]\n",
      " [3 4 5 6]\n",
      " [4 5 6 7]]\n"
     ]
    }
   ],
   "source": [
    "result = A + u\n",
    "print(result)"
   ]
  },
  {
   "cell_type": "markdown",
   "id": "9e205736",
   "metadata": {},
   "source": [
    "Ở đây 1D-ndarray được lan truyền thành một 2D-ndarray. "
   ]
  },
  {
   "cell_type": "markdown",
   "id": "0c05182e",
   "metadata": {},
   "source": [
    "### Các hàm trên arrays"
   ]
  },
  {
   "cell_type": "markdown",
   "id": "ed899e27",
   "metadata": {},
   "source": [
    "Có nhiều hàm mà ta có thể sử dụng để tính toán trên các ndarrays. Dưới đây là một số các hàm như thế\n",
    "\n",
    "    numpy.sum   numpy.prod   numpy.mean\n",
    "    \n",
    "    numpy.max   numpy.min    numpy.std\n",
    "    \n",
    "    numpy.argmax\tnumpy.argmin\tnumpy.var"
   ]
  },
  {
   "cell_type": "code",
   "execution_count": 116,
   "id": "90d7dd5f",
   "metadata": {},
   "outputs": [
    {
     "name": "stdout",
     "output_type": "stream",
     "text": [
      "[ 8 -2  4  7 -3]\n"
     ]
    }
   ],
   "source": [
    "# Tạo một 1D-ndarray\n",
    "\n",
    "arr = np.array([8,-2,4,7,-3])\n",
    "print(arr)"
   ]
  },
  {
   "cell_type": "code",
   "execution_count": 117,
   "id": "36df09ea",
   "metadata": {},
   "outputs": [
    {
     "data": {
      "text/plain": [
       "2.8"
      ]
     },
     "execution_count": 117,
     "metadata": {},
     "output_type": "execute_result"
    }
   ],
   "source": [
    "# Tính trung bình các giá trị trong array\n",
    "\n",
    "np.mean(arr)"
   ]
  },
  {
   "cell_type": "code",
   "execution_count": 118,
   "id": "cb4a07fd",
   "metadata": {},
   "outputs": [
    {
     "data": {
      "text/plain": [
       "2.8"
      ]
     },
     "execution_count": 118,
     "metadata": {},
     "output_type": "execute_result"
    }
   ],
   "source": [
    "# Kiểm tra giá trị trung bình bằng cách tính trực tiếp\n",
    "\n",
    "np.sum(arr)/arr.size"
   ]
  },
  {
   "cell_type": "code",
   "execution_count": 120,
   "id": "26ad524b",
   "metadata": {},
   "outputs": [
    {
     "data": {
      "text/plain": [
       "0"
      ]
     },
     "execution_count": 120,
     "metadata": {},
     "output_type": "execute_result"
    }
   ],
   "source": [
    "# Tìm chỉ số vị trí của phần tử lớn nhất\n",
    "\n",
    "np.argmax(arr)"
   ]
  },
  {
   "cell_type": "code",
   "execution_count": 122,
   "id": "e77c983e",
   "metadata": {},
   "outputs": [
    {
     "data": {
      "text/plain": [
       "8"
      ]
     },
     "execution_count": 122,
     "metadata": {},
     "output_type": "execute_result"
    }
   ],
   "source": [
    "# Giá trị của phần tử max\n",
    "\n",
    "np.max(arr)"
   ]
  },
  {
   "cell_type": "markdown",
   "id": "f5354677",
   "metadata": {},
   "source": [
    "Các hàm này cũng áp dụng tốt cho các 2D-ndarrays. Ta có thể chọn áp dụng cho toàn bộ array, dọc theo các cột của array hoặc theo các hàng."
   ]
  },
  {
   "cell_type": "code",
   "execution_count": 123,
   "id": "891522dd",
   "metadata": {},
   "outputs": [
    {
     "name": "stdout",
     "output_type": "stream",
     "text": [
      "[[2 4 2]\n",
      " [2 1 1]\n",
      " [3 2 0]\n",
      " [0 6 2]]\n"
     ]
    }
   ],
   "source": [
    "M = np.array([[2,4,2],[2,1,1],[3,2,0],[0,6,2]])\n",
    "print(M)"
   ]
  },
  {
   "cell_type": "code",
   "execution_count": 124,
   "id": "412d079e",
   "metadata": {},
   "outputs": [
    {
     "data": {
      "text/plain": [
       "25"
      ]
     },
     "execution_count": 124,
     "metadata": {},
     "output_type": "execute_result"
    }
   ],
   "source": [
    "# Tổng các phần tử của array\n",
    "\n",
    "np.sum(M)"
   ]
  },
  {
   "cell_type": "code",
   "execution_count": 126,
   "id": "11ec7584",
   "metadata": {},
   "outputs": [
    {
     "data": {
      "text/plain": [
       "array([ 7, 13,  5])"
      ]
     },
     "execution_count": 126,
     "metadata": {},
     "output_type": "execute_result"
    }
   ],
   "source": [
    "# Tổng dọc theo cột \n",
    "\n",
    "np.sum(M, axis = 0)"
   ]
  },
  {
   "cell_type": "code",
   "execution_count": 127,
   "id": "e341dce8",
   "metadata": {},
   "outputs": [
    {
     "data": {
      "text/plain": [
       "array([8, 4, 5, 8])"
      ]
     },
     "execution_count": 127,
     "metadata": {},
     "output_type": "execute_result"
    }
   ],
   "source": [
    "# Tổng theo dòng\n",
    "\n",
    "np.sum(M, axis = 1)"
   ]
  },
  {
   "cell_type": "code",
   "execution_count": 125,
   "id": "2eb924e7",
   "metadata": {},
   "outputs": [
    {
     "data": {
      "text/plain": [
       "2.0833333333333335"
      ]
     },
     "execution_count": 125,
     "metadata": {},
     "output_type": "execute_result"
    }
   ],
   "source": [
    "# Trung bình các phần tử của array\n",
    "\n",
    "np.mean(M)"
   ]
  },
  {
   "cell_type": "markdown",
   "id": "38d15740",
   "metadata": {},
   "source": [
    "#### Các hàm toán học"
   ]
  },
  {
   "cell_type": "markdown",
   "id": "ac06617c",
   "metadata": {},
   "source": [
    "[Các hàm toán học](https://numpy.org/doc/stable/reference/routines.math.html) trong Numpy được gọi là [universal functions](https://numpy.org/doc/stable/user/quickstart.html#universal-functions). Những hàm này tác động lên các phần tử của arrays và đầu ra là một array khác. \n",
    "\n",
    "Dưới đây là một số hàm thông dụng\n",
    "\n",
    "    numpy.sin\tnumpy.cos\tnumpy.tan\n",
    "    \n",
    "    numpy.exp\tnumpy.log\tnumpy.log10\n",
    "    \n",
    "    numpy.arcsin\tnumpy.arccos\tnumpy.arctan"
   ]
  },
  {
   "cell_type": "markdown",
   "id": "db8176aa",
   "metadata": {},
   "source": [
    "Tính các giá trị $\\sin(2\\pi x)$ với $x = 0, 0.25, 0.5, ..., 1.75$"
   ]
  },
  {
   "cell_type": "code",
   "execution_count": 128,
   "id": "5c506ba6",
   "metadata": {},
   "outputs": [
    {
     "name": "stdout",
     "output_type": "stream",
     "text": [
      "[0.   0.25 0.5  0.75 1.  ]\n"
     ]
    }
   ],
   "source": [
    "x = np.arange(0,1.25,0.25)\n",
    "print(x)"
   ]
  },
  {
   "cell_type": "code",
   "execution_count": 130,
   "id": "11542ba0",
   "metadata": {},
   "outputs": [
    {
     "name": "stdout",
     "output_type": "stream",
     "text": [
      "[ 0.0000000e+00  1.0000000e+00  1.2246468e-16 -1.0000000e+00\n",
      " -2.4492936e-16]\n"
     ]
    }
   ],
   "source": [
    "print(np.sin(2*np.pi*x))"
   ]
  },
  {
   "cell_type": "markdown",
   "id": "2e3a128a",
   "metadata": {},
   "source": [
    "Chúng ta kỳ vọng kết quả sẽ là mảng [0. 1. 0. -1. 0.]. Tuy nhiên, luôn có sai số làm tròn trong kết quả tính toán. Khih thực hiện các tính toán số, ta thường xem một số cỡ $10^{-16}$ như 0."
   ]
  },
  {
   "cell_type": "markdown",
   "id": "c349c146",
   "metadata": {},
   "source": [
    "Tính các giá trị $\\log_{10}(x)$ với $x = 1, 10, 100, 1000, 10000$"
   ]
  },
  {
   "cell_type": "code",
   "execution_count": 131,
   "id": "fc57689a",
   "metadata": {},
   "outputs": [
    {
     "name": "stdout",
     "output_type": "stream",
     "text": [
      "[    1    10   100  1000 10000]\n"
     ]
    }
   ],
   "source": [
    "x = np.array([1,10,100,1000,10000])\n",
    "print(x)"
   ]
  },
  {
   "cell_type": "code",
   "execution_count": 132,
   "id": "8d731a4d",
   "metadata": {},
   "outputs": [
    {
     "name": "stdout",
     "output_type": "stream",
     "text": [
      "[0. 1. 2. 3. 4.]\n"
     ]
    }
   ],
   "source": [
    "print(np.log10(x))"
   ]
  },
  {
   "cell_type": "markdown",
   "id": "952db1a5",
   "metadata": {},
   "source": [
    "Đương nhiên ta cũng có thể dùng các hàm này cho các giá trị vô hướng"
   ]
  },
  {
   "cell_type": "code",
   "execution_count": 133,
   "id": "1ac72f2a",
   "metadata": {},
   "outputs": [
    {
     "data": {
      "text/plain": [
       "1.0"
      ]
     },
     "execution_count": 133,
     "metadata": {},
     "output_type": "execute_result"
    }
   ],
   "source": [
    "np.cos(0)"
   ]
  },
  {
   "cell_type": "markdown",
   "id": "d8b48fe5",
   "metadata": {},
   "source": [
    "Numpy cũng cung cấp các hằng số thông dụng như $\\pi$ hay $e$"
   ]
  },
  {
   "cell_type": "code",
   "execution_count": 135,
   "id": "6a522632",
   "metadata": {},
   "outputs": [
    {
     "data": {
      "text/plain": [
       "3.141592653589793"
      ]
     },
     "execution_count": 135,
     "metadata": {},
     "output_type": "execute_result"
    }
   ],
   "source": [
    "np.pi"
   ]
  },
  {
   "cell_type": "code",
   "execution_count": 136,
   "id": "e40ad879",
   "metadata": {},
   "outputs": [
    {
     "data": {
      "text/plain": [
       "2.718281828459045"
      ]
     },
     "execution_count": 136,
     "metadata": {},
     "output_type": "execute_result"
    }
   ],
   "source": [
    "np.e"
   ]
  },
  {
   "cell_type": "markdown",
   "id": "e2860fbd",
   "metadata": {},
   "source": [
    "Ví dụ như ta có thể kiểm tra giới hạn\n",
    "\n",
    "$$\n",
    "    \\lim_{x \\to \\infty}arctan(x) = \\frac{\\pi}{2}\n",
    "$$\n",
    "\n",
    "bằng cách tính giá trị của hàm $arctan(x)$ tại một số giá trị lớn của $x$."
   ]
  },
  {
   "cell_type": "code",
   "execution_count": 138,
   "id": "63cdf08b",
   "metadata": {},
   "outputs": [
    {
     "data": {
      "text/plain": [
       "1.5707963267948966"
      ]
     },
     "execution_count": 138,
     "metadata": {},
     "output_type": "execute_result"
    }
   ],
   "source": [
    "np.pi/2"
   ]
  },
  {
   "cell_type": "code",
   "execution_count": 137,
   "id": "2711a6a3",
   "metadata": {},
   "outputs": [
    {
     "data": {
      "text/plain": [
       "1.5697963271282298"
      ]
     },
     "execution_count": 137,
     "metadata": {},
     "output_type": "execute_result"
    }
   ],
   "source": [
    "np.arctan(1000)"
   ]
  },
  {
   "cell_type": "code",
   "execution_count": 139,
   "id": "2fa1813b",
   "metadata": {},
   "outputs": [
    {
     "data": {
      "text/plain": [
       "1.5706963267952299"
      ]
     },
     "execution_count": 139,
     "metadata": {},
     "output_type": "execute_result"
    }
   ],
   "source": [
    "np.arctan(10000)"
   ]
  },
  {
   "cell_type": "markdown",
   "id": "45d47542",
   "metadata": {},
   "source": [
    "### Sinh số ngẫu nhiên"
   ]
  },
  {
   "cell_type": "markdown",
   "id": "cd1918e6",
   "metadata": {},
   "source": [
    "Gói con __numpy.random__ cung cấp các hàm cho phép sinh các arrays gồm các số ngẫu nhiên được rút ra từ các phân bố xác suất khác nhau. Chẳng hạn\n",
    "\n",
    "* _numpy.random.rand(d1,...,dn)_: Create a NumPy array (with shape (d1,...,dn)) with entries sampled uniformly from [0,1)\n",
    "    \n",
    "    \n",
    "* _numpy.random.randn(d1,...,dn)_: Create a NumPy array (with shape (d1,...,dn)) with entries sampled from the standard normal distribution\n",
    "    \n",
    "    \n",
    "* _numpy.random.randint(a,b,size)_: Create a NumPy array (with shape size) with integer entries from low (inclusive) to high (exclusive)"
   ]
  },
  {
   "cell_type": "markdown",
   "id": "00cf9819",
   "metadata": {},
   "source": [
    "#### Lấy mẫu ngẫu nhiên từ phân phối đều"
   ]
  },
  {
   "cell_type": "code",
   "execution_count": 143,
   "id": "62518740",
   "metadata": {},
   "outputs": [
    {
     "data": {
      "text/plain": [
       "0.2952495881225794"
      ]
     },
     "execution_count": 143,
     "metadata": {},
     "output_type": "execute_result"
    }
   ],
   "source": [
    "# Sinh số ngẫu nhiên\n",
    "\n",
    "np.random.rand()"
   ]
  },
  {
   "cell_type": "code",
   "execution_count": 141,
   "id": "568e7d35",
   "metadata": {},
   "outputs": [
    {
     "data": {
      "text/plain": [
       "array([0.00652738, 0.23567187, 0.66669665])"
      ]
     },
     "execution_count": 141,
     "metadata": {},
     "output_type": "execute_result"
    }
   ],
   "source": [
    "# Mẫu gồm 3 số ngẫu nhiên\n",
    "\n",
    "np.random.rand(3)"
   ]
  },
  {
   "cell_type": "code",
   "execution_count": 142,
   "id": "78a3033b",
   "metadata": {},
   "outputs": [
    {
     "data": {
      "text/plain": [
       "array([[0.77121093, 0.40707763, 0.65502539, 0.58780985],\n",
       "       [0.0864307 , 0.73570024, 0.47551793, 0.08908665]])"
      ]
     },
     "execution_count": 142,
     "metadata": {},
     "output_type": "execute_result"
    }
   ],
   "source": [
    "# Tạo 2D-ndarray gồm các số ngẫu nhiên\n",
    "\n",
    "np.random.rand(2,4)"
   ]
  },
  {
   "cell_type": "markdown",
   "id": "b0d3d56a",
   "metadata": {},
   "source": [
    "#### Lấy mẫu ngẫu nhiên từ phân phối "
   ]
  },
  {
   "cell_type": "code",
   "execution_count": 144,
   "id": "180b5de6",
   "metadata": {},
   "outputs": [
    {
     "data": {
      "text/plain": [
       "1.0696316696438979"
      ]
     },
     "execution_count": 144,
     "metadata": {},
     "output_type": "execute_result"
    }
   ],
   "source": [
    "np.random.randn()"
   ]
  },
  {
   "cell_type": "code",
   "execution_count": 145,
   "id": "aa4a217c",
   "metadata": {},
   "outputs": [
    {
     "data": {
      "text/plain": [
       "array([-1.91703462, -1.81998126, -0.29508727])"
      ]
     },
     "execution_count": 145,
     "metadata": {},
     "output_type": "execute_result"
    }
   ],
   "source": [
    "np.random.randn(3)"
   ]
  },
  {
   "cell_type": "code",
   "execution_count": 146,
   "id": "03e4bda3",
   "metadata": {},
   "outputs": [
    {
     "data": {
      "text/plain": [
       "array([[ 0.05935089,  2.23332261,  0.57054372,  0.7433076 ],\n",
       "       [-0.41108201,  0.6905382 ,  1.84537246, -1.1614183 ]])"
      ]
     },
     "execution_count": 146,
     "metadata": {},
     "output_type": "execute_result"
    }
   ],
   "source": [
    "np.random.randn(2, 4)"
   ]
  },
  {
   "cell_type": "markdown",
   "id": "71225d8b",
   "metadata": {},
   "source": [
    "#### Tạo các số nguyên ngẫu nhiên từ phân phối đều trên các khoảng khác nhau"
   ]
  },
  {
   "cell_type": "code",
   "execution_count": 147,
   "id": "2b449017",
   "metadata": {},
   "outputs": [
    {
     "data": {
      "text/plain": [
       "4"
      ]
     },
     "execution_count": 147,
     "metadata": {},
     "output_type": "execute_result"
    }
   ],
   "source": [
    "np.random.randint(-10,10)"
   ]
  },
  {
   "cell_type": "code",
   "execution_count": 150,
   "id": "a1f04486",
   "metadata": {},
   "outputs": [
    {
     "data": {
      "text/plain": [
       "array([[1, 1, 1, 1, 1, 0, 1, 0],\n",
       "       [0, 1, 1, 0, 0, 1, 0, 1],\n",
       "       [1, 1, 0, 1, 1, 0, 0, 1],\n",
       "       [0, 0, 0, 0, 1, 1, 0, 1]])"
      ]
     },
     "execution_count": 150,
     "metadata": {},
     "output_type": "execute_result"
    }
   ],
   "source": [
    "np.random.randint(0,2,(4,8))"
   ]
  },
  {
   "cell_type": "code",
   "execution_count": 151,
   "id": "fabd6818",
   "metadata": {},
   "outputs": [
    {
     "data": {
      "text/plain": [
       "array([[ 6, -3],\n",
       "       [-7,  5],\n",
       "       [-1,  2],\n",
       "       [-5,  6],\n",
       "       [ 8, -9]])"
      ]
     },
     "execution_count": 151,
     "metadata": {},
     "output_type": "execute_result"
    }
   ],
   "source": [
    "np.random.randint(-9,10,(5,2))"
   ]
  },
  {
   "cell_type": "markdown",
   "id": "7ae1cade",
   "metadata": {},
   "source": [
    "### Các ví dụ:"
   ]
  },
  {
   "cell_type": "markdown",
   "id": "a95ea099",
   "metadata": {},
   "source": [
    "#### Tối ưu\n",
    "\n",
    "Tìm giá trị cực đại và cực tiểu tuyệt đối của hàm \n",
    "\n",
    "$$\n",
    "    f(x) = x\\sin x + \\cos 4x\n",
    "$$\n",
    "\n",
    "trên khoảng $[0, 2\\pi]$."
   ]
  },
  {
   "cell_type": "markdown",
   "id": "bd110ce5",
   "metadata": {},
   "source": [
    "Ta biết rằng giá trị cực đại và giá trị cực tiểu phải xuất hiện tại $0$, $2\\pi$ hoặc tại các điểm tới hạn mà tại đó $f'(x) = 0$. Lưu ý rằng\n",
    "\n",
    "$$\n",
    "    f'(x) = \\sin x + x\\cos x - 4\\sin 4x\n",
    "$$\n",
    "\n",
    "và phương trình $f'(x) = 0$ không thể giải bằng phương pháp giải tích. Thay vào đó, ta tiến hành như sau\n",
    "\n",
    "* Tạo một 1D-ndarray có đọ dài $N$ chứa các giá trị từ $0$ đến $2\\pi$ ($N$ khá lớn)\n",
    "\n",
    "\n",
    "* Sử dụng các hàm np.argmin và np.argmax để tìm ra giá trị của $x$ mong muốn"
   ]
  },
  {
   "cell_type": "code",
   "execution_count": 152,
   "id": "07a33ccb",
   "metadata": {},
   "outputs": [
    {
     "name": "stdout",
     "output_type": "stream",
     "text": [
      "Absolute maximum value is y = 2.5992726072887007 at x = 1.628136126702901\n",
      "Absolute minimum value is y = -5.129752039182 at x = 5.34187001663503\n"
     ]
    }
   ],
   "source": [
    "N = 10000\n",
    "x = np.linspace(0,2*np.pi,N)\n",
    "y = x * np.sin(x) + np.cos(4*x)\n",
    "y_max = np.max(y)\n",
    "y_min = np.min(y)\n",
    "x_max = x[np.argmax(y)]\n",
    "x_min = x[np.argmin(y)]\n",
    "print('Absolute maximum value is y =',y_max,'at x =',x_max)\n",
    "print('Absolute minimum value is y =',y_min,'at x =',x_min)"
   ]
  },
  {
   "cell_type": "markdown",
   "id": "b267a7ad",
   "metadata": {},
   "source": [
    "#### Tổng Riemann"
   ]
  },
  {
   "cell_type": "markdown",
   "id": "8934c6a6",
   "metadata": {},
   "source": [
    "Viết một hàm với yêu cầu sau\n",
    "\n",
    "* Tên hàm: exp_int\n",
    "\n",
    "* Đối số đầu vào: $b$ và $N$\n",
    "\n",
    "* Trả về tổng Riemann sau đây\n",
    "\n",
    "$$\n",
    "    \\int_0^b e^{-x^2}dx \\approx \\sum_{k=0}^{N-1} e^{-x_k^2}\\Delta x\n",
    "$$\n",
    "\n",
    "trong đó $\\Delta x = b/N$ và $x_k = k\\Delta x$ với $k = 0, 1, ..., N-1$."
   ]
  },
  {
   "cell_type": "code",
   "execution_count": 154,
   "id": "225e63dc",
   "metadata": {},
   "outputs": [],
   "source": [
    "def exp_int(b,N):\n",
    "    \"Compute left Riemann sum of exp(-x^2) from 0 to b with N subintervals.\"\n",
    "    x = np.linspace(0,b,N+1)\n",
    "    x_left_endpoints = x[:-1]\n",
    "    Delta_x = b/N\n",
    "    I = Delta_x * np.sum(np.exp(-x_left_endpoints**2))\n",
    "    return I"
   ]
  },
  {
   "cell_type": "markdown",
   "id": "0ede6618",
   "metadata": {},
   "source": [
    "Ta biết công thức đẹp sau đây\n",
    "\n",
    "$$\n",
    "    \\int_0^{\\infty} e^{-x^2}dx = \\frac{\\sqrt{\\pi}}{2}\n",
    "$$\n",
    "\n",
    "Ta có thể sử dụng hàm exp_int ở trên để tính gần đúng tích phân ở vế trái "
   ]
  },
  {
   "cell_type": "code",
   "execution_count": 160,
   "id": "ad14b9e2",
   "metadata": {},
   "outputs": [
    {
     "data": {
      "text/plain": [
       "0.886726925452758"
      ]
     },
     "execution_count": 160,
     "metadata": {},
     "output_type": "execute_result"
    }
   ],
   "source": [
    "exp_int(100, 100000)"
   ]
  },
  {
   "cell_type": "code",
   "execution_count": 158,
   "id": "632bf8dc",
   "metadata": {},
   "outputs": [
    {
     "data": {
      "text/plain": [
       "0.8862269254527579"
      ]
     },
     "execution_count": 158,
     "metadata": {},
     "output_type": "execute_result"
    }
   ],
   "source": [
    "np.pi**0.5/2"
   ]
  },
  {
   "cell_type": "markdown",
   "id": "c7aba1ac",
   "metadata": {},
   "source": [
    "### Bài tập"
   ]
  },
  {
   "cell_type": "markdown",
   "id": "7ce24bb9",
   "metadata": {},
   "source": [
    "1. Cho biết công thức tích phân sau\n",
    "\n",
    "$$\n",
    "    \\int_1^e \\frac{\\ln x dx}{(1+\\ln x)^2} = \\frac{e}{2} - 1.\n",
    "$$\n",
    "\n",
    "Viết một hàm với yêu cầu sau\n",
    "\n",
    "* Tên hàm: log_integral\n",
    "\n",
    "* Đối số đầu vào: $c$ và $N$\n",
    "\n",
    "* Trả về kết quả là tổng Riemann sau\n",
    "\n",
    "$$\n",
    "    \\int_1^e \\frac{\\ln x dx}{(1+\\ln x)^2} \\approx \\sum_{i=1}^{N-1} \\frac{\\ln x_i \\Delta x}{(1+\\ln x_i)^2}, \\quad \\Delta x = \\frac{c-1}{N},\n",
    "$$\n",
    "\n",
    "với $x_i = 1 + i \\Delta x$, $i = 1, 2, ..., N-1$\n",
    "\n",
    "2. Viết một hàm với yêu cầu sau\n",
    "\n",
    "* Tên gọi: dot\n",
    "\n",
    "* Đối số đầu vào là: M, i, j (M là một ma trận vuông)\n",
    "\n",
    "* Hàm trả về kết quả là tích của dòng thứ i và cột thứ "
   ]
  },
  {
   "cell_type": "code",
   "execution_count": null,
   "id": "80e3e628",
   "metadata": {},
   "outputs": [],
   "source": []
  }
 ],
 "metadata": {
  "kernelspec": {
   "display_name": "Python 3",
   "language": "python",
   "name": "python3"
  },
  "language_info": {
   "codemirror_mode": {
    "name": "ipython",
    "version": 3
   },
   "file_extension": ".py",
   "mimetype": "text/x-python",
   "name": "python",
   "nbconvert_exporter": "python",
   "pygments_lexer": "ipython3",
   "version": "3.8.11"
  }
 },
 "nbformat": 4,
 "nbformat_minor": 5
}
