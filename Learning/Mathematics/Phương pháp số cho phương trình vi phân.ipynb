{
 "cells": [
  {
   "cell_type": "markdown",
   "id": "5283e3f6",
   "metadata": {},
   "source": [
    "# Phương pháp số cho phương trình vi phân\n",
    "\n",
    "Biên soạn: Lê Xuân Trường"
   ]
  },
  {
   "cell_type": "markdown",
   "id": "4b1ebb5e",
   "metadata": {},
   "source": [
    "## Bài toán Cauchy cho phương trình vi phân cấp 1"
   ]
  },
  {
   "cell_type": "markdown",
   "id": "fdd042a4",
   "metadata": {},
   "source": [
    "Nhiều bài toán trong các lĩnh vực khác nhau có thể được mô hình hoá bởi phương trình vi phân cấp 1 có dạng\n",
    "\n",
    "$$\n",
    "    \\frac{dy}{dt} = f(t, y), \\,\\,\\, (t_0 < t \\leq T)\n",
    "$$\n",
    "\n",
    "trong đó $y : [t_0, T] \\to \\mathbb{R}$ là hàm chưa biết, thoả điều kiện đầu $y(t_0) = y_0$."
   ]
  },
  {
   "cell_type": "markdown",
   "id": "9ea0bdf1",
   "metadata": {},
   "source": [
    "#### Định lý:  \n",
    "\n",
    "Giả sử hàm $f: [t_0, T] \\times \\mathbb{R} \\to \\mathbb{R}$ thoả điều kiện\n",
    "\n",
    "1. liên tục theo cả hai biến\n",
    "\n",
    "2. liên tục Lipschitz theo biến thứ hai, nghĩa là\n",
    "\n",
    "$$\n",
    "    |f(t, \\xi_1) - f(t, \\xi_2)| \\leq K|y_1 - y_2|\n",
    "$$\n",
    "\n",
    "với mọi $t \\in [t_0, T]$ và mọi $y_1, y_2 \\in \\mathbb{R}$. Khi đó bài toán Cauchy \n",
    "\n",
    "$$\n",
    "    \\frac{dy}{dt} = f(t, y), \\quad y(t_0) = y_0\n",
    "$$\n",
    "\n",
    "có nghiệm duy nhất $y = y(t), \\,\\, t_0 \\leq t \\leq T$.\n"
   ]
  },
  {
   "cell_type": "markdown",
   "id": "8acefcf6",
   "metadata": {},
   "source": [
    "## Phương pháp số\n",
    "\n",
    "### Ý tưởng chung"
   ]
  },
  {
   "cell_type": "markdown",
   "id": "7aceab80",
   "metadata": {},
   "source": [
    "Khi tìm nghiệm xấp xỉ của bài toán, ta không thể tính $y(t)$ tại mọi giá trị $t \\in [t_0, T]$. Thay vào đó ta sẽ tính gần đúng giá trị $y(t)$ tại một lưới rời rạc \n",
    "\n",
    "$$\n",
    "    t_0 < t_1 < \\cdots < t_{N-1} < T \\equiv T_N.\n",
    "$$\n",
    "\n",
    "Thông thường ta sử dụng lưới đều, tức là $t_k - t_{k-1} = h = \\displaystyle \\frac{T-t_0}{N}$.\n",
    "\n",
    "Rõ ràng $y(t_0) = y_0$ là giá trị đúng. Giá trị xấp xỉ của $y(t_k)$ sẽ được ký hiệu bởi $y_k$:\n",
    "\n",
    "$$\n",
    "    y(t_k) \\approx y_k, \\quad k = 1, 2, ..., N.\n",
    "$$"
   ]
  },
  {
   "cell_type": "markdown",
   "id": "14f759cd",
   "metadata": {},
   "source": [
    "__Sai số khi giải gần đúng phương trình vi phân:__\n",
    "\n",
    "Khi giải số một phương trình vi phân, sai số có thể xuất phát từ hai nguồn chính sau đây:\n",
    "\n",
    "1. Sai số làm tròn (rounding errors) xuất hiện khi thực hiện các phép toán số học trên các số thực dấu phẩy động\n",
    "\n",
    "2. Sai số phương pháp (truncation errors) gây ra do phương pháp xấp xỉ.\n",
    "\n",
    "Trong khi sai số làm tròn khó được kiểm soát (bởi nó còn phụ thuộc vào phần cứng máy tính) thì ta có thể hiệu chỉnh và cải tiến sai số phương pháp. \n",
    "\n",
    "Với một sơ đồ số, sai số (phương pháp) tuyệt đối được đo lường bới\n",
    "\n",
    "$$\n",
    "    \\varepsilon = \\max\\{|y(t_k) - y_k| : k = 1, 2, ..., N\\}.\n",
    "$$"
   ]
  },
  {
   "cell_type": "markdown",
   "id": "c9f96b64",
   "metadata": {},
   "source": [
    "### Phương pháp Euler \n",
    "\n",
    "__Giả thiết:__ Phương trình vi phân $\\displaystyle \\frac{dy}{dt} = f(t, y)$ xác định tại từng điểm $t_k$ của lưới\n",
    "\n",
    "$$\n",
    "    \\frac{dy}{dt}(t_k) = f(t_k, y(t_k)), \\quad k = 0, 1, ..., N.\n",
    "$$\n",
    "\n",
    "__Công thức lặp:__ (xấp xỉ đạo hàm bằng sai phân tiến bậc 1)\n",
    "\n",
    "$$\n",
    "    y_{k+1} \\approx y_k + hf(t_k, y_k), \\quad k = 0, 1, ..., N-1.\n",
    "$$"
   ]
  },
  {
   "cell_type": "markdown",
   "id": "3b85ea9f",
   "metadata": {},
   "source": [
    "### Cài đặt thuật toán Euler trên Python"
   ]
  },
  {
   "cell_type": "code",
   "execution_count": 5,
   "id": "7374c9a8",
   "metadata": {},
   "outputs": [],
   "source": [
    "import numpy as np"
   ]
  },
  {
   "cell_type": "code",
   "execution_count": 6,
   "id": "876c0f76",
   "metadata": {},
   "outputs": [],
   "source": [
    "def fw_euler(f, t_0, t_N, h, iv):\n",
    "    grid_of_times = np.arange(t_0, t_N + h, h)\n",
    "    y = np.zeros(len(grid_of_times))\n",
    "    y[0] = iv\n",
    "    for k in range(1,len(grid_of_times)):\n",
    "        y[k] = y[k-1] + h*f(grid_of_times[k-1], y[k-1])\n",
    "    return grid_of_times, y"
   ]
  },
  {
   "cell_type": "markdown",
   "id": "11966c04",
   "metadata": {},
   "source": [
    "##### Áp dụng hàm được định nghĩa ở trên để tìm nghiệm xấp xỉ của bài toán\n",
    "\n",
    "$$\n",
    "    \\frac{dy}{dt} = 0.1y, \\,\\, y(0) = 100\n",
    "$$\n",
    "\n",
    "trên khoảng [0, 20]"
   ]
  },
  {
   "cell_type": "code",
   "execution_count": 7,
   "id": "11b8fa2d",
   "metadata": {},
   "outputs": [],
   "source": [
    "def func(t,x):\n",
    "    return 0.1*x"
   ]
  },
  {
   "cell_type": "code",
   "execution_count": 8,
   "id": "eb84b05f",
   "metadata": {},
   "outputs": [],
   "source": [
    "t, y = fw_euler(func, 0, 20, 0.5, 100)"
   ]
  },
  {
   "cell_type": "code",
   "execution_count": 9,
   "id": "87e48c12",
   "metadata": {},
   "outputs": [
    {
     "data": {
      "image/png": "[encoded data removed]",
      "text/plain": [
       "<Figure size 432x288 with 1 Axes>"
      ]
     },
     "metadata": {
      "needs_background": "light"
     },
     "output_type": "display_data"
    }
   ],
   "source": [
    "import matplotlib.pyplot as plt\n",
    "\n",
    "# Plot exact solution\n",
    "plt.plot(t, 100*(np.exp(0.1*t)),'b', label = 'exact')\n",
    "\n",
    "# Plot approximate solution\n",
    "plt.plot(t, y, 'g-', label = 'approximate')\n",
    "\n",
    "plt.legend()\n",
    "plt.grid(True,linestyle=':')\n",
    "plt.title('Solutions of the Cauchy problem')\n",
    "plt.xlabel = ('t')\n",
    "plt.ylabel = ('y')\n",
    "plt.show()"
   ]
  },
  {
   "cell_type": "code",
   "execution_count": 10,
   "id": "39f604d8",
   "metadata": {},
   "outputs": [
    {
     "data": {
      "image/png": "[encoded data removed]",
      "text/plain": [
       "<Figure size 432x288 with 1 Axes>"
      ]
     },
     "metadata": {
      "needs_background": "light"
     },
     "output_type": "display_data"
    }
   ],
   "source": [
    "t1, y1 = fw_euler(func, 0, 20, 2, 100)\n",
    "\n",
    "# Plot exact solution\n",
    "plt.plot(t1, 100*(np.exp(0.1*t1)),'b', label = 'exact')\n",
    "\n",
    "# Plot approximate solution\n",
    "plt.plot(t1, y1, 'c', label = 'approximate', marker = 'o')\n",
    "\n",
    "plt.legend()\n",
    "plt.grid(True,linestyle=':')\n",
    "plt.title('Solutions with step =')\n",
    "plt.xlabel = ('t')\n",
    "plt.ylabel = ('y')\n",
    "\n",
    "plt.show()"
   ]
  },
  {
   "cell_type": "markdown",
   "id": "a46fce25",
   "metadata": {},
   "source": [
    "#### Phương pháp Runge-Kutta \n",
    "\n",
    "__Giả thiết:__ Phương trình vi phân $\\displaystyle \\frac{dy}{dt} = f(t, y)$ xác định tại từng điểm $t_k$ của lưới\n",
    "\n",
    "$$\n",
    "    \\frac{dy}{dt}(t_k) = f(t_k, y(t_k)), \\quad k = 0, 1, ..., N.\n",
    "$$\n",
    "\n",
    "__Công thức Runge-Kutta bậc hai:__ \n",
    "\n",
    "$$\n",
    "    y_{k+1} = y_k + hf\\big(t_k +\\frac{1}{2}h, y_k + \\frac{1}{2}f(t_k, y_k)\\big), \\quad k = 0, 1, ..., N-1.\n",
    "$$\n",
    "\n",
    "__Công thức Runge-Kutta bậc bốn:__ $\\,\\,$ là một trong những phương pháp một bước nổi tiếng nhất để giải ODEs.\n",
    "\n",
    "$$\n",
    "    y_{k+1} = y_k + \\frac{h}{6}\\big(z^1_k + 2z_k^2 + 2z_k^3 + z_k^4\\big), \\quad k = 0, 1, ..., N-1.\n",
    "$$\n",
    "\n",
    "trong đó\n",
    "\n",
    "$$\n",
    "    z^1_k = f(t_k, y_k)\n",
    "$$\n",
    "\n",
    "$$\n",
    "    z_k^2 = f\\big(t_k + \\frac{1}{2}h, y_k + \\frac{1}{2}z_k^1\\big)\n",
    "$$\n",
    "\n",
    "$$\n",
    "    z_k^3 = f\\big(t_k + \\frac{1}{2}h, y_k + \\frac{1}{2}z_k^2\\big)\n",
    "$$\n",
    "\n",
    "$$\n",
    "    z_k^4 = f\\big(t_k + h, y_k + z_k^3\\big)\n",
    "$$"
   ]
  },
  {
   "cell_type": "markdown",
   "id": "8045853b",
   "metadata": {},
   "source": [
    "### Cài đặt thuật toán -Kutta bậc 4 trên Python"
   ]
  },
  {
   "cell_type": "code",
   "execution_count": 15,
   "id": "20dbf516",
   "metadata": {},
   "outputs": [],
   "source": [
    "import numpy as np\n",
    "def rk4(f, t_0, t_N, h, iv):\n",
    "    grid_of_times = np.arange(t_0, t_N + h, h)\n",
    "    y = np.zeros(len(grid_of_times))\n",
    "    y[0] = iv\n",
    "    for k in range(1,len(grid_of_times)):\n",
    "        z1 = f(grid_of_times[k-1], y[k-1])\n",
    "        z2 = f(grid_of_times[k-1] + h/2, y[k-1] + z1/2)\n",
    "        z3 = f(grid_of_times[k-1] + h/2, y[k-1] + z2/2)\n",
    "        z4 = f(grid_of_times[k-1] + h, y[k-1] + z3)\n",
    "        y[k] = y[k-1] + h*(z1 + 2*z2 + 2*z3 + z4)/6\n",
    "    return grid_of_times, y"
   ]
  },
  {
   "cell_type": "code",
   "execution_count": 16,
   "id": "a7ef1499",
   "metadata": {},
   "outputs": [],
   "source": [
    "def func(t,x):\n",
    "    return 0.1*x"
   ]
  },
  {
   "cell_type": "code",
   "execution_count": 19,
   "id": "b2744a1d",
   "metadata": {},
   "outputs": [],
   "source": [
    "t, y = rk4(func, 0, 20, 2, 100)"
   ]
  },
  {
   "cell_type": "code",
   "execution_count": 20,
   "id": "cd0f9bed",
   "metadata": {},
   "outputs": [
    {
     "data": {
      "image/png": "[encoded data removed]",
      "text/plain": [
       "<Figure size 432x288 with 1 Axes>"
      ]
     },
     "metadata": {
      "needs_background": "light"
     },
     "output_type": "display_data"
    }
   ],
   "source": [
    "import matplotlib.pyplot as plt\n",
    "\n",
    "# Plot exact solution\n",
    "plt.plot(t, 100*(np.exp(0.1*t)),'b', label = 'exact')\n",
    "\n",
    "# Plot approximate solution\n",
    "plt.plot(t, y, 'g-', label = 'approximate')\n",
    "\n",
    "plt.legend()\n",
    "plt.grid(True,linestyle=':')\n",
    "plt.title('Solutions of the Cauchy problem')\n",
    "plt.xlabel = ('t')\n",
    "plt.ylabel = ('y')\n",
    "plt.show()"
   ]
  },
  {
   "cell_type": "markdown",
   "id": "7d533314",
   "metadata": {},
   "source": [
    "## Phân tích sai số\n",
    "\n",
    "Một đặc điểm quan trọng của một phương pháp số cụ thể nào đó liên quan đến sai số phương pháp là __sự hội tụ__. \n",
    "\n",
    "#### Định ngĩa:\n",
    "\n",
    "Một sơ đồ số cho bài toán Cauchy\n",
    "\n",
    "$$\n",
    "    \\frac{dy}{dt} = f(t, y), \\quad y(t_0) = y_0\n",
    "$$\n",
    "\n",
    "được gọi là hội tụ nếu\n",
    "\n",
    "$$\n",
    "    \\max\\{|y(t_k) - y_k| : k = 1, 2, ..., N\\} \\to 0 \\quad \\text{khi $N \\to \\infty$}.\n",
    "$$"
   ]
  },
  {
   "cell_type": "markdown",
   "id": "16e95099",
   "metadata": {},
   "source": [
    "Khi một phương pháp số là hội tụ thì ta còn quan tâm đến tốc độ hội tụ của phương pháp đó. Tốc độ hội tụ (the rate of convergence), hay còn gọi là độ chính xác toàn cục (the global order of accuracy), được định nghĩa như sau:\n",
    "\n",
    "#### Định ngĩa:\n",
    "\n",
    "Ta nói một phương pháp có tốc độ hội tụ bậc $p$ nếu \n",
    "\n",
    "$$\n",
    "    \\max\\{|y(t_k) - y_k| : k = 1, 2, ..., N\\} \\leq \\mathcal{O}(h^p)\n",
    "$$\n",
    "\n",
    "khi $h \\to 0$ (hoặc $N \\to \\infty$)."
   ]
  },
  {
   "cell_type": "markdown",
   "id": "3b295179",
   "metadata": {},
   "source": [
    "### Sai số của phương pháp Euler"
   ]
  },
  {
   "cell_type": "markdown",
   "id": "e7e74691",
   "metadata": {},
   "source": [
    "Áp dụng công thức khai triển Taylor ta có\n",
    "\n",
    "$$\n",
    "    y(t_{k+1}) = y(t_k) + h\\frac{dy}{dt}(t_k) + \\frac{h^2}{2}\\frac{d^2y}{dt^2}(\\xi_k),\n",
    "$$\n",
    "\n",
    "trong đó $t_k \\leq \\xi_k \\leq t_{k+1}$. Do $y$ là nghiệm của phương trình vi phân nên ta suy ra\n",
    "\n",
    "$$\n",
    "    y(t_{k+1}) = y(t_k) + hf(t_k, y(t_k)) + \\frac{h^2}{2}\\frac{d^2y}{dt^2}(\\xi_k).\n",
    "$$\n",
    "\n",
    "$$\n",
    "    y_{k+1} = y_k + hf(t_k, y_k)\n",
    "$$\n",
    "\n",
    "Mặc khác từ công thức của sơ đồ Euler tiến, ta có\n",
    "\n",
    "$$\n",
    "    y(t_{k+1}) - y_{k+1} = y(t_k) - y_k + h\\left[f(t_k, y(t_k)) - f(t_k, y_k)\\right] + \\frac{h^2}{2}\\frac{d^2y}{dt^2}(\\xi_k).\n",
    "$$\n",
    "\n",
    "Ta có nhận xét rằng sai số của $y(t_{k+1})$ bao gồm hai phần\n",
    "\n",
    "* Phần cắt bớt (trunction): $T_{k+1} := \\displaystyle \\frac{h^2}{2}\\frac{d^2y}{dt^2}(\\xi_k)$ \n",
    "\n",
    "\n",
    "* Phần sai số lan truyền (propagated error)\n",
    "\n",
    "$$\n",
    "    y(t_k) - y_k + h\\left[f(t_k, y(t_k)) - f(t_k, y_k)\\right].\n",
    "$$\n",
    "\n",
    "Đặt $e_k = y(t_k) - y_k$, $(k = 1, 2, ...)$. Từ đẳng thức trên ta suy ra \n",
    "\n",
    "$$\n",
    "    e_{k+1} = e_k + h\\left[f(t_k, y(t_k)) - f(t_k, y_k)\\right] + T_{k+1}.\n",
    "$$\n",
    "\n",
    "Nếu giả sử thêm rằng hàm $f$ thoả điều kiện Lipschitz theo biến thứ hai và nghiệm $y$ có đạo hàm cấp hai bị chặn thì \n",
    "\n",
    "$$\n",
    "    |e_{k+1}| \\leq \\big(1 + hL\\big)|e_k| + h\\tau(h),\n",
    "$$\n",
    "\n",
    "trong đó $L$ là hằng số Lipschitz và\n",
    "\n",
    "$$\n",
    "    \\tau(h) = \\displaystyle \\max\\limits_{t_0 \\leq t \\leq N}\\frac{h}{2}\\left|\\frac{d^2y}{dt^2}(t)\\right|.\n",
    "$$\n",
    "\n",
    "Điều này có thể dẫn đến kết quả sau\n",
    "\n",
    "\n",
    "__Định lý:__ Giả sử $f$ là hàm số thoả một số điều kiện (_liên tục, Lipschitz theo biến thứ hai_) và nghiệm $y$ có đạo hàm cấp hai bị chặn. Khi đó ta có đánh giá\n",
    "\n",
    "$$\n",
    "    \\max\\{|y(t_k) - y_k| : k = 1, 2, ..., N\\} \\leq C.h\n",
    "$$"
   ]
  },
  {
   "cell_type": "markdown",
   "id": "65188ad9",
   "metadata": {},
   "source": [
    "### Sai số của công thức Runge-Kutta\n",
    "\n",
    "Để phân tích sai số của phương pháp Runge-Kutta bậc hai ta áp dụng khai triển Taylor và thu được\n",
    "\n",
    "$$\n",
    "    y(t_{k+1}) = y(t_k) + hy'(t_k) + \\frac{h^2}{2}y''(t_k) + \\mathcal{O}(h^3). \n",
    "$$\n",
    "\n",
    "Do $y$ là nghiệm của phương trình vi phân nên suy ra\n",
    "\n",
    "$$\n",
    "    y(t_{k+1}) = y(t_k) + hf(t_k, y(t_k)) + \\frac{h^2}{2}y''(t_k) + \\mathcal{O}(h^3) = y(t_k) + h.F(t_k, y(t_k); h) + \\mathcal{O}(h^3),\n",
    "$$\n",
    "\n",
    "trong đó $F(t_k, y(t_k); h) = \\displaystyle f(t_k, y(t_k)) + \\frac{h}{2}\\left(\\partial_tf(t_k, y(t_k)) + \\partial_yf(t_k, y(t_k)).f(t_k, y(t_k))\\right)$. \n",
    "\n",
    "Với công thức Runge-Kutta bậc hai ta muốn biểu diễn hàm $F$ dưới dạng\n",
    "\n",
    "$$\n",
    "    F(t, y; h) = af(t, y) + bf(t + \\alpha h, y + \\beta h f(t, y)).\n",
    "$$\n",
    "\n",
    "Để xác định các hằng số $a, b$ và $\\alpha, \\beta$ ta lưu ý rằng\n",
    "\n",
    "$$\n",
    "    f(t_k + \\alpha h, y(t_k) + \\beta h f(t_k, y(t_k))) = f(t_k, y(t_k)) + \\alpha\\partial_tf(t_k,y(t_k)).h + \\beta\\partial_yf(t_k, y(t_k)).hf(t_k,y(t_k)) + \\mathcal{O}(h^2)\n",
    "$$\n",
    "\n",
    "Từ các đẳng thức trên, có thể thấy rằng các hằng số $a, b, \\alpha, \\beta$ thoả mãn các phương trình sau\n",
    "\n",
    "$$\n",
    "    \\begin{cases} a + b = 1 \\\\ \\alpha b = 1/2 \\\\ b\\beta = 1/2\\end{cases}\n",
    "$$\n",
    "\n",
    "Nếu chọn ta suy ra\n",
    "\n",
    "$$\n",
    "    y(t_{k+1}) = y(t_k) + hf(t_k + \\frac{h}{2}, y(t_k) + \\frac{h}{2}f(t_k, y(t_k))) + \\mathcal{O}(h^3) \\approx y_{k+1}\n",
    "$$\n",
    "\n",
    "Sai số chặt cụt của phương pháp là\n",
    "\n",
    "$$\n",
    "    T_{k+1} = y(t_{k+1}) - y_{k+1} = \\mathcal{O}(h^3).\n",
    "$$\n",
    "\n",
    "Với các tính toán tương tự nhưng phức tạp hơn ta thu được sai số của __phương pháp Runge-Kutta bậc bốn__\n",
    "\n",
    "$$\n",
    "    T_{k+1} = y(t_{k+1}) - y_{k+1} = \\mathcal{O}(h^5).\n",
    "$$\n",
    "\n",
    "Đây là các sai số địa phương. Đối với sai số toàn cục, ta có kết quả sau\n",
    "\n",
    "__Định lý:__ Với một số điệu kiện của hàm $f$ và nghiệm $y$ ta có\n",
    "\n",
    "* $\\max\\{|y(t_k) - y_k| : k = 1, 2, ..., N\\} \\leq C.h^2$ đối với phương pháp Runge-Kutta bậc hai\n",
    "\n",
    "\n",
    "* $\\max\\{|y(t_k) - y_k| : k = 1, 2, ..., N\\} \\leq C.h^4$ đối với phương pháp Runge-Kutta bậc \n"
   ]
  },
  {
   "cell_type": "markdown",
   "id": "75235f2b",
   "metadata": {},
   "source": [
    "## Mô hình lan truyền dịch bệnh"
   ]
  },
  {
   "cell_type": "markdown",
   "id": "58622906",
   "metadata": {},
   "source": [
    "Tổng thể được phân thành ba nhóm\n",
    "\n",
    "* Nhóm cá thể nhạy cảm có khả năng nhiễm bệnh, ký hiệu là $S$. Ký hiệu $S(t)$ là số cá thể có khả năng nhiễm bệnh tại thời điểm $t$. \n",
    "\n",
    "* Nhóm bị nhiễm bệnh, ký hiệu là $I$. Gọi $I(t)$ là số cá thể thuộc nhóm $I$.\n",
    "\n",
    "* Một cá nhân bị nhiễm bệnh có hai khả năng: hoặc là hồi phục và đạt được miễn nhiễm, hoặc là chết đi. Nhóm các cá thể thuộc hai dạng này được ký hiệu bởi $R$. Gọi $R(t)$ là số người thuộc nhóm $R$.\n",
    "\n",
    "Sự biến động của dịch bệnh có thể hình dung như sơ đồ sau\n",
    "\n",
    "![](sir.png)\n",
    "\n",
    "Ta có thể sử dụng toán học để mô tả sự thay đổi về số lượng của các nhóm $S, I, R$. Cụ thể hơn $S(t)$, $I(t)$ và $R(t)$ thoả mãn hệ phương trình vi phân \n",
    "\n",
    "$$\n",
    "    \\begin{cases} S' = -\\beta SI \\\\ I' = \\beta SI - \\gamma I \\\\ R' = \\gamma I\\end{cases} \n",
    "$$\n",
    "\n",
    "trong đó\n",
    "\n",
    "* $\\beta$ là một thông số phản ánh mức độ dễ dàng của để một người bị nhiễm trong một đơn vị thời gian \n",
    "\n",
    "    * Giả sử quan sát $n$ cuộc gặp gỡ giữa một cá thể nhóm $S$ với một cá thể nhóm $I$ thì thấy có $m$ cá thể nhóm $S$ bị lây nhiễm nhiễm bệnh. Xác suất lây nhiễm sẽ đối với mỗi cuộc tiếp xúc sẽ là là $p = m/n$. \n",
    "    \n",
    "    * Gọi $\\mu$ là kỳ vọng về số cuộc gặp gỡ giữa một người nhóm $S$ với một người nhóm $I$\n",
    "    \n",
    "    * Khi đó ta có $\\beta = \\mu.p$\n",
    "\n",
    "* $\\gamma$ là xác suất để một người trong nhóm $I$ chuyển sang nhóm $R$ trong một đơn vị thời gian \n",
    "\n",
    "$$\n",
    "    \\gamma = \\frac{\\text{số người chuyển sang nhóm $R$ trong khoảng thời gian $T$}}{T\\times \\text{số người bệnh trong thời gian $T$}}\n",
    "$$"
   ]
  },
  {
   "cell_type": "markdown",
   "id": "fd2e7abc",
   "metadata": {},
   "source": [
    "#### Giải hệ phương trình truyền nhiễm bằng phương pháp Euler\n",
    "\n",
    "Ta có thể xem hệ trên như một phương trình vi phân cấp một nhận giá trị véctơ\n",
    "\n",
    "$$\n",
    "    y'(t) = f(t, y(t)), \\quad 0 \\leq t \\leq T,\n",
    "$$\n",
    "\n",
    "trong đó $y(t) = \\displaystyle \\begin{bmatrix} S(t) \\\\ I(t) \\\\ R(t) \\end{bmatrix}$ và $f(t, y) = \\displaystyle \\begin{bmatrix} -\\beta S(t)I(t) \\\\ \\beta S(t)I(t) - \\gamma I(t) \\\\ \\gamma I(t) \\end{bmatrix}$.\n",
    "\n",
    "Công thức Euler cho hệ phương trình này như sau\n",
    "\n",
    "$$\n",
    "    y_0 = y(0) = \\displaystyle \\begin{bmatrix} S(0) \\\\ I(0) \\\\ R(0) \\end{bmatrix} \\,\\, \\text{cho trước}\n",
    "$$\n",
    "\n",
    "Với $k = 1, 2, ....$ ta có\n",
    "\n",
    "$$\n",
    "    y_k = y_{k-1} + hf(t_{k-1}, y_{k-1}) \n",
    "$$\n",
    "\n",
    "hay dưới dạng véctơ ta có\n",
    "\n",
    "$$\n",
    "    \\begin{bmatrix} S(t_k) \\\\ I(t_k) \\\\ R(t_k) \\end{bmatrix} = \\begin{bmatrix} S(t_{k-1}) \\\\ I(t_{k-1}) \\\\ R(t_{k-1}) \\end{bmatrix} + h*\\begin{bmatrix} -\\beta S(t_{k-1})I(t_{k-1}) \\\\ \\beta S(t_{k-1})I(t_{k-1}) - \\gamma I(t_{k-1}) \\\\ \\gamma I(t_{k-1}) \\end{bmatrix}\n",
    "$$"
   ]
  },
  {
   "cell_type": "markdown",
   "id": "088f360e",
   "metadata": {},
   "source": [
    "__Ví dụ:__ Nghiên cứu sự lan truyền của bệnh cúm trong trường học người ta thu được các thông tin sau\n",
    "\n",
    "* Tại thời điểm quan sát có 40 người thuộc nhóm nhạy cảm và 8 người thuộc nhóm bị nhiễm. Sau 24 giờ các số này lần lượt là 30 và 18. Nếu lấy đơn vị thời gian là 1 giờ thì ta có hệ số $\\beta = 10/(40.8.24)$.\n",
    "\n",
    "* Trong số 15 người bị nhiễm thì sau một ngày có 3 người chuyển sang nhóm thứ ba (nhóm $R$). Khi đó $\\gamma = 3/(15.24)$\n",
    "\n",
    "Sử dụng các thông tin này để áp dụng cho một một đợt cúm mới. Ở thời điểm phát hiện đợt cúm này có 1 người bị nhiễm và 50 người nhạy cảm. Đánh giá mức độ lan truyền của dịch trong vòng 30 ngày tới. "
   ]
  },
  {
   "cell_type": "code",
   "execution_count": 3,
   "id": "adc714fb",
   "metadata": {},
   "outputs": [
    {
     "data": {
      "image/png": "[encoded data removed]",
      "text/plain": [
       "<Figure size 432x288 with 1 Axes>"
      ]
     },
     "metadata": {
      "needs_background": "light"
     },
     "output_type": "display_data"
    }
   ],
   "source": [
    "import numpy as np\n",
    "from numpy import zeros, linspace\n",
    "import matplotlib.pyplot as plt\n",
    "\n",
    "# Time unit: 1 h\n",
    "beta= 10./(40*8*24)\n",
    "gamma= 3./(15*24)\n",
    "h = 0.1                    # 6 min\n",
    "D=30                       # Simulate for D days\n",
    "N_t = int(D*24/h)         # Corresponding no of hours\n",
    "t=linspace(0,N_t*h,N_t+1)\n",
    "S=zeros(N_t+1)\n",
    "I=zeros(N_t+1)\n",
    "R=zeros(N_t+1)\n",
    "\n",
    "# Initial condition\n",
    "\n",
    "S[0]=50\n",
    "I[0]=1\n",
    "R[0]=0\n",
    "\n",
    "# Step equations forward in time\n",
    "\n",
    "for n in range(N_t):\n",
    "    S[n+1] =S[n]-h*beta*S[n]*I[n]\n",
    "    I[n+1] =I[n]+h*beta*S[n]*I[n]-h*gamma*I[n]\n",
    "    R[n+1] =R[n]+h*gamma*I[n]\n",
    "    \n",
    "plt.plot(t, S, label='S')\n",
    "plt.plot(t,I,label='I')\n",
    "plt.plot(t,R,label='R')\n",
    "plt.legend()\n",
    "plt.grid(True,linestyle=':')\n",
    "plt.title('SIR model')\n",
    "plt.show()\n",
    "\n",
    "#plt.savefig(’tmp.pdf’)\n",
    "#plt.savefig(’tmp.png’)"
   ]
  },
  {
   "cell_type": "markdown",
   "id": "d7d0aa48",
   "metadata": {},
   "source": []
  }
 ],
 "metadata": {
  "kernelspec": {
   "display_name": "Python 3",
   "language": "python",
   "name": "python3"
  },
  "language_info": {
   "codemirror_mode": {
    "name": "ipython",
    "version": 3
   },
   "file_extension": ".py",
   "mimetype": "text/x-python",
   "name": "python",
   "nbconvert_exporter": "python",
   "pygments_lexer": "ipython3",
   "version": "3.8.11"
  }
 },
 "nbformat": 4,
 "nbformat_minor": 5
}
